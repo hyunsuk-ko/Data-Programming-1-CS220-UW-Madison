{
 "cells": [
  {
   "cell_type": "code",
   "execution_count": 1,
   "metadata": {},
   "outputs": [],
   "source": [
    "# project: p8\n",
    "# submitter: ychung66\n",
    "# partner: hkim876 "
   ]
  },
  {
   "cell_type": "code",
   "execution_count": 2,
   "metadata": {},
   "outputs": [],
   "source": [
    "import csv\n",
    "\n",
    "def get_mapping(path):\n",
    "    map_file = open(path)\n",
    "    map_reader = csv.reader(map_file)\n",
    "    map_data = list(map_reader)\n",
    "    \n",
    "    map_dict = {}\n",
    "    for i in map_data:\n",
    "        map_dict[i[0]] = i[1]\n",
    "    return map_dict"
   ]
  },
  {
   "cell_type": "code",
   "execution_count": 3,
   "metadata": {},
   "outputs": [
    {
     "data": {
      "text/plain": [
       "{'nm0000131': 'John Cusack',\n",
       " 'nm0000154': 'Mel Gibson',\n",
       " 'nm0000163': 'Dustin Hoffman',\n",
       " 'nm0000418': 'Danny Glover',\n",
       " 'nm0000432': 'Gene Hackman',\n",
       " 'nm0000997': 'Gary Busey',\n",
       " 'nm0001149': 'Richard Donner',\n",
       " 'nm0001219': 'Gary Fleder',\n",
       " 'nm0752751': 'Mitchell Ryan',\n",
       " 'tt0313542': 'Runaway Jury',\n",
       " 'tt0093409': 'Lethal Weapon'}"
      ]
     },
     "execution_count": 3,
     "metadata": {},
     "output_type": "execute_result"
    }
   ],
   "source": [
    "#q1: what is returned by your get_mapping(\"small_mapping.csv\") function?\n",
    "mapping = get_mapping(\"small_mapping.csv\")\n",
    "mapping"
   ]
  },
  {
   "cell_type": "code",
   "execution_count": 4,
   "metadata": {},
   "outputs": [
    {
     "data": {
      "text/plain": [
       "'Mitchell Ryan'"
      ]
     },
     "execution_count": 4,
     "metadata": {},
     "output_type": "execute_result"
    }
   ],
   "source": [
    "#q2: what is the value associated with the key \"nm0752751\"?\n",
    "mapping[\"nm0752751\"]"
   ]
  },
  {
   "cell_type": "code",
   "execution_count": 5,
   "metadata": {},
   "outputs": [
    {
     "data": {
      "text/plain": [
       "['John Cusack',\n",
       " 'Mel Gibson',\n",
       " 'Dustin Hoffman',\n",
       " 'Danny Glover',\n",
       " 'Gene Hackman',\n",
       " 'Gary Busey',\n",
       " 'Richard Donner',\n",
       " 'Gary Fleder',\n",
       " 'Mitchell Ryan']"
      ]
     },
     "execution_count": 5,
     "metadata": {},
     "output_type": "execute_result"
    }
   ],
   "source": [
    "#q3: what are the values in the mapping associated with keys beginning with \"nm\"?\n",
    "begin_nm = []\n",
    "for keys in mapping:\n",
    "    if \"nm\" in keys:\n",
    "        begin_nm.append(mapping[keys])\n",
    "begin_nm"
   ]
  },
  {
   "cell_type": "code",
   "execution_count": 6,
   "metadata": {},
   "outputs": [
    {
     "data": {
      "text/plain": [
       "['nm0000997', 'nm0001219']"
      ]
     },
     "execution_count": 6,
     "metadata": {},
     "output_type": "execute_result"
    }
   ],
   "source": [
    "#q4: which keys in the mapping map to people with a first name of \"Gary\"?\n",
    "#Answer with a Python list. \n",
    "#To get full points, you should write code that will count somebody named \"gary\" but will not count somebody named \"Garyyy\".\n",
    "\n",
    "list_gary = []\n",
    "for val in mapping:\n",
    "    if \"gary\" in mapping[val].lower():\n",
    "        list_gary.append(val)\n",
    "\n",
    "list_gary"
   ]
  },
  {
   "cell_type": "code",
   "execution_count": 7,
   "metadata": {},
   "outputs": [],
   "source": [
    "def get_raw_movies(path):\n",
    "    raw_file = open(path)\n",
    "    raw_reader = csv.reader(raw_file)\n",
    "    raw_data = list(raw_reader)\n",
    "    \n",
    "    \n",
    "    header = raw_data[0]\n",
    "    raw_movies = raw_data[1:]\n",
    "    movies = []\n",
    "    new_list = []\n",
    "      \n",
    "    for raw_movie in raw_movies:\n",
    "        movie_dict = {}\n",
    "        for i in range(len(header)):\n",
    "            movie_dict[header[i]] = raw_movie[i]\n",
    "            \n",
    "        for keys in movie_dict:\n",
    "            if keys == 'title':\n",
    "                movie_dict[keys] = movie_dict[keys]\n",
    "            if keys == 'year':\n",
    "                movie_dict[keys] = int(movie_dict[keys])\n",
    "            if keys == 'rating':\n",
    "                movie_dict[keys] = float(movie_dict[keys])\n",
    "            if keys == 'directors':\n",
    "                movie_dict[keys] = list(movie_dict[keys].split(','))\n",
    "            if keys == 'actors':\n",
    "                movie_dict[keys] = list(movie_dict[keys].split(','))\n",
    "            if keys == 'genres':\n",
    "                movie_dict[keys] = list(movie_dict[keys].split(','))\n",
    "        new_list.append(movie_dict)\n",
    "        \n",
    "    return new_list"
   ]
  },
  {
   "cell_type": "code",
   "execution_count": 8,
   "metadata": {},
   "outputs": [
    {
     "data": {
      "text/plain": [
       "[{'title': 'tt0313542',\n",
       "  'year': 2003,\n",
       "  'rating': 7.1,\n",
       "  'directors': ['nm0001219'],\n",
       "  'actors': ['nm0000131', 'nm0000432', 'nm0000163'],\n",
       "  'genres': ['Crime', 'Drama', 'Thriller']},\n",
       " {'title': 'tt0093409',\n",
       "  'year': 1987,\n",
       "  'rating': 7.6,\n",
       "  'directors': ['nm0001149'],\n",
       "  'actors': ['nm0000154', 'nm0000418', 'nm0000997', 'nm0752751'],\n",
       "  'genres': ['Action', 'Crime', 'Thriller']}]"
      ]
     },
     "execution_count": 8,
     "metadata": {},
     "output_type": "execute_result"
    }
   ],
   "source": [
    "#q5: what does get_raw_movies(\"small_movies.csv\") return?\n",
    "get_raw_movies(\"small_movies.csv\")"
   ]
  },
  {
   "cell_type": "code",
   "execution_count": 9,
   "metadata": {},
   "outputs": [
    {
     "data": {
      "text/plain": [
       "3"
      ]
     },
     "execution_count": 9,
     "metadata": {},
     "output_type": "execute_result"
    }
   ],
   "source": [
    "#q6: how many genres did the movie at index 0 have?\n",
    "small_movies = get_raw_movies(\"small_movies.csv\")\n",
    "len(small_movies[0]['genres'])"
   ]
  },
  {
   "cell_type": "code",
   "execution_count": 10,
   "metadata": {},
   "outputs": [
    {
     "data": {
      "text/plain": [
       "'nm0752751'"
      ]
     },
     "execution_count": 10,
     "metadata": {},
     "output_type": "execute_result"
    }
   ],
   "source": [
    "#q7: what is the ID of the last actor listed for the move at index 1? \n",
    "x = small_movies[1]['actors']\n",
    "x[len(small_movies[1]['actors'])-1]"
   ]
  },
  {
   "cell_type": "code",
   "execution_count": 11,
   "metadata": {},
   "outputs": [],
   "source": [
    "#loads data from the movies_path file using get_movies_raw \n",
    "#and converts the IDs to names using a mapping based on the mapping_path file, \n",
    "#which you should load using your get_mapping function.\n",
    "\n",
    "def get_movies(movies_path, mapping_path):\n",
    "    movies = get_raw_movies(movies_path)\n",
    "    mapping = get_mapping(mapping_path)\n",
    "    #print(movies)\n",
    "    #print(mapping)\n",
    "   \n",
    "    for movie in movies:\n",
    "        for keys in movie:\n",
    "            \n",
    "            if keys == 'title':\n",
    "                movie[keys] = mapping[movie[keys]]\n",
    "                \n",
    "            if keys == 'directors' or keys == 'actors':\n",
    "                list_name = []\n",
    "                for key in movie[keys]:\n",
    "                    list_name.append(mapping[key])\n",
    "                movie[keys] = list_name\n",
    "\n",
    "    \n",
    "    return movies\n",
    "                \n",
    "small = get_movies(\"small_movies.csv\", \"small_mapping.csv\")"
   ]
  },
  {
   "cell_type": "code",
   "execution_count": 12,
   "metadata": {},
   "outputs": [
    {
     "data": {
      "text/plain": [
       "'Runaway Jury'"
      ]
     },
     "execution_count": 12,
     "metadata": {},
     "output_type": "execute_result"
    }
   ],
   "source": [
    "#q8: what is small[0][\"title\"]?\n",
    "\n",
    "small[0][\"title\"]"
   ]
  },
  {
   "cell_type": "code",
   "execution_count": 13,
   "metadata": {},
   "outputs": [
    {
     "data": {
      "text/plain": [
       "['Mel Gibson', 'Danny Glover', 'Gary Busey', 'Mitchell Ryan']"
      ]
     },
     "execution_count": 13,
     "metadata": {},
     "output_type": "execute_result"
    }
   ],
   "source": [
    "#q9: what is small[1][\"actors\"]?\n",
    "small[1][\"actors\"]"
   ]
  },
  {
   "cell_type": "code",
   "execution_count": 14,
   "metadata": {},
   "outputs": [
    {
     "data": {
      "text/plain": [
       "['Richard Donner']"
      ]
     },
     "execution_count": 14,
     "metadata": {},
     "output_type": "execute_result"
    }
   ],
   "source": [
    "#q10: what is small[-1][\"directors\"]?\n",
    "small[-1][\"directors\"]"
   ]
  },
  {
   "cell_type": "code",
   "execution_count": 15,
   "metadata": {},
   "outputs": [
    {
     "data": {
      "text/plain": [
       "[{'title': 'Runaway Jury',\n",
       "  'year': 2003,\n",
       "  'rating': 7.1,\n",
       "  'directors': ['Gary Fleder'],\n",
       "  'actors': ['John Cusack', 'Gene Hackman', 'Dustin Hoffman'],\n",
       "  'genres': ['Crime', 'Drama', 'Thriller']},\n",
       " {'title': 'Lethal Weapon',\n",
       "  'year': 1987,\n",
       "  'rating': 7.6,\n",
       "  'directors': ['Richard Donner'],\n",
       "  'actors': ['Mel Gibson', 'Danny Glover', 'Gary Busey', 'Mitchell Ryan'],\n",
       "  'genres': ['Action', 'Crime', 'Thriller']}]"
      ]
     },
     "execution_count": 15,
     "metadata": {},
     "output_type": "execute_result"
    }
   ],
   "source": [
    "#q11: what is small?\n",
    "small"
   ]
  },
  {
   "cell_type": "code",
   "execution_count": 16,
   "metadata": {},
   "outputs": [
    {
     "data": {
      "text/plain": [
       "[{'title': 'The Big Wedding',\n",
       "  'year': 2013,\n",
       "  'rating': 5.6,\n",
       "  'directors': ['Justin Zackham'],\n",
       "  'actors': ['Robert De Niro'],\n",
       "  'genres': ['Comedy', 'Drama', 'Romance']},\n",
       " {'title': 'The Affair of the Necklace',\n",
       "  'year': 2001,\n",
       "  'rating': 6.1,\n",
       "  'directors': ['Charles Shyer'],\n",
       "  'actors': ['Simon Baker', 'Jonathan Pryce', 'Adrien Brody'],\n",
       "  'genres': ['Drama', 'History', 'Romance']},\n",
       " {'title': 'The Barefoot Executive',\n",
       "  'year': 1971,\n",
       "  'rating': 6.0,\n",
       "  'directors': ['Robert Butler'],\n",
       "  'actors': ['Kurt Russell', 'Joe Flynn', 'Harry Morgan', 'Wally Cox'],\n",
       "  'genres': ['Comedy', 'Family']}]"
      ]
     },
     "execution_count": 16,
     "metadata": {},
     "output_type": "execute_result"
    }
   ],
   "source": [
    "#q12: what are the first 3 rows in movies?\n",
    "movies = get_movies(\"movies.csv\", \"mapping.csv\")\n",
    "movies[0:3]"
   ]
  },
  {
   "cell_type": "code",
   "execution_count": 17,
   "metadata": {},
   "outputs": [
    {
     "data": {
      "text/plain": [
       "[{'title': 'Fortitude and Glory: Angelo Dundee and His Fighters',\n",
       "  'year': 2012,\n",
       "  'rating': 7.2,\n",
       "  'directors': ['Chris Tasara'],\n",
       "  'actors': ['Angelo Dundee', 'George Foreman', 'Freddie Roach'],\n",
       "  'genres': ['Sport']},\n",
       " {'title': 'Ivanhoe',\n",
       "  'year': 1952,\n",
       "  'rating': 6.8,\n",
       "  'directors': ['Richard Thorpe'],\n",
       "  'actors': ['Robert Taylor', 'George Sanders'],\n",
       "  'genres': ['Adventure', 'Drama', 'History']},\n",
       " {'title': 'The Great Gatsby',\n",
       "  'year': 1949,\n",
       "  'rating': 6.6,\n",
       "  'directors': ['Elliott Nugent'],\n",
       "  'actors': ['Alan Ladd', 'Macdonald Carey'],\n",
       "  'genres': ['Drama']}]"
      ]
     },
     "execution_count": 17,
     "metadata": {},
     "output_type": "execute_result"
    }
   ],
   "source": [
    "#q13: what are the last 3 rows in movies?\n",
    "movies[-3:]"
   ]
  },
  {
   "cell_type": "code",
   "execution_count": 18,
   "metadata": {},
   "outputs": [],
   "source": [
    "# you are not allowed to change this function\n",
    "import copy\n",
    "def filter_movies_by_year(movies, year):\n",
    "    movie = copy.copy(movies)\n",
    "    i = 0\n",
    "    while i < len(movie):\n",
    "        if movie[i][\"year\"] != year:\n",
    "            movie.pop(i)\n",
    "        else:\n",
    "            i += 1\n",
    "    return movie"
   ]
  },
  {
   "cell_type": "code",
   "execution_count": 19,
   "metadata": {},
   "outputs": [
    {
     "data": {
      "text/plain": [
       "[{'title': 'Arizona',\n",
       "  'year': 1931,\n",
       "  'rating': 6.0,\n",
       "  'directors': ['George B. Seitz'],\n",
       "  'actors': ['John Wayne', 'Forrest Stanley'],\n",
       "  'genres': ['Drama', 'Romance']},\n",
       " {'title': 'City Lights',\n",
       "  'year': 1931,\n",
       "  'rating': 8.5,\n",
       "  'directors': ['Charles Chaplin'],\n",
       "  'actors': ['Charles Chaplin', 'Harry Myers'],\n",
       "  'genres': ['Comedy', 'Drama', 'Romance']},\n",
       " {'title': 'The Range Feud',\n",
       "  'year': 1931,\n",
       "  'rating': 5.8,\n",
       "  'directors': ['D. Ross Lederman'],\n",
       "  'actors': ['Buck Jones', 'John Wayne', 'Edward LeSaint'],\n",
       "  'genres': ['Mystery', 'Western']}]"
      ]
     },
     "execution_count": 19,
     "metadata": {},
     "output_type": "execute_result"
    }
   ],
   "source": [
    "#q14: what are the movies from 1931?\n",
    "filter_movies_by_year(movies, 1931)"
   ]
  },
  {
   "cell_type": "code",
   "execution_count": 20,
   "metadata": {},
   "outputs": [
    {
     "data": {
      "text/plain": [
       "[{'title': 'Texas Cyclone',\n",
       "  'year': 1932,\n",
       "  'rating': 6.2,\n",
       "  'directors': ['D. Ross Lederman'],\n",
       "  'actors': ['Wallace MacDonald', 'Tim McCoy', 'Wheeler Oakman', 'John Wayne'],\n",
       "  'genres': ['Action', 'Western']},\n",
       " {'title': 'Haunted Gold',\n",
       "  'year': 1932,\n",
       "  'rating': 5.5,\n",
       "  'directors': ['Mack V. Wright'],\n",
       "  'actors': ['Otto Hoffman',\n",
       "   'John Wayne',\n",
       "   'Duke',\n",
       "   'Harry Woods',\n",
       "   'Erville Alderson'],\n",
       "  'genres': ['Horror', 'Mystery', 'Western']},\n",
       " {'title': 'Girl Crazy',\n",
       "  'year': 1932,\n",
       "  'rating': 6.3,\n",
       "  'directors': ['William A. Seiter'],\n",
       "  'actors': ['Bert Wheeler', 'Robert Woolsey', 'Eddie Quillan'],\n",
       "  'genres': ['Comedy']},\n",
       " {'title': 'Hot Saturday',\n",
       "  'year': 1932,\n",
       "  'rating': 6.6,\n",
       "  'directors': ['William A. Seiter'],\n",
       "  'actors': ['Cary Grant', 'Randolph Scott', 'Edward Woods'],\n",
       "  'genres': ['Drama', 'Romance']},\n",
       " {'title': 'Lady and Gent',\n",
       "  'year': 1932,\n",
       "  'rating': 5.7,\n",
       "  'directors': ['Stephen Roberts'],\n",
       "  'actors': ['Morgan Wallace',\n",
       "   'George Bancroft',\n",
       "   'Charles Starrett',\n",
       "   'James Gleason',\n",
       "   'John Wayne'],\n",
       "  'genres': ['Drama', 'Sport']},\n",
       " {'title': 'The Big Stampede',\n",
       "  'year': 1932,\n",
       "  'rating': 5.8,\n",
       "  'directors': ['Tenny Wright'],\n",
       "  'actors': ['John Wayne', 'Noah Beery', 'Paul Hurst'],\n",
       "  'genres': ['Western']},\n",
       " {'title': 'The Shadow of the Eagle',\n",
       "  'year': 1932,\n",
       "  'rating': 5.8,\n",
       "  'directors': ['B. Reeves Eason', 'Ford Beebe'],\n",
       "  'actors': ['John Wayne', 'Walter Miller', 'Kenneth Harlan'],\n",
       "  'genres': ['Crime', 'Drama', 'Mystery']},\n",
       " {'title': 'Ride Him, Cowboy',\n",
       "  'year': 1932,\n",
       "  'rating': 5.4,\n",
       "  'directors': ['Fred Allen'],\n",
       "  'actors': ['Otis Harlan', 'John Wayne', 'Duke', 'Henry B. Walthall'],\n",
       "  'genres': ['Romance', 'Western']},\n",
       " {'title': \"Smilin' Through\",\n",
       "  'year': 1932,\n",
       "  'rating': 7.0,\n",
       "  'directors': ['Sidney Franklin'],\n",
       "  'actors': ['Fredric March', 'Leslie Howard', 'O.P. Heggie'],\n",
       "  'genres': ['Drama', 'Romance']},\n",
       " {'title': 'The Hurricane Express',\n",
       "  'year': 1932,\n",
       "  'rating': 5.6,\n",
       "  'directors': ['J.P. McGowan', 'Armand Schaefer'],\n",
       "  'actors': ['Tully Marshall', 'Conway Tearle', 'John Wayne'],\n",
       "  'genres': ['Action', 'Adventure', 'Crime']}]"
      ]
     },
     "execution_count": 20,
     "metadata": {},
     "output_type": "execute_result"
    }
   ],
   "source": [
    "# q15: what are the movies from 1932\n",
    "filter_movies_by_year(movies, 1932)"
   ]
  },
  {
   "cell_type": "code",
   "execution_count": 21,
   "metadata": {},
   "outputs": [],
   "source": [
    "def unique(header):\n",
    "    movie_list = []\n",
    "    for movie in movies:\n",
    "        if len(movie[header]) != 0:\n",
    "            for i in range(len(movie[header])):\n",
    "                 if movie[header][i] not in movie_list:\n",
    "                    movie_list.append(movie[header][i])    \n",
    "        else:\n",
    "            for i in range(len(movie[header])):\n",
    "                 if movie[header][i] not in movie_list:\n",
    "                    movie_list.append(movie[header][i])\n",
    "    return len(movie_list)"
   ]
  },
  {
   "cell_type": "code",
   "execution_count": 22,
   "metadata": {},
   "outputs": [
    {
     "data": {
      "text/plain": [
       "18"
      ]
     },
     "execution_count": 22,
     "metadata": {},
     "output_type": "execute_result"
    }
   ],
   "source": [
    "# q16: how many unique genres are there in the dataset?\n",
    "unique(\"genres\")"
   ]
  },
  {
   "cell_type": "code",
   "execution_count": 23,
   "metadata": {},
   "outputs": [
    {
     "data": {
      "text/plain": [
       "1247"
      ]
     },
     "execution_count": 23,
     "metadata": {},
     "output_type": "execute_result"
    }
   ],
   "source": [
    "# q17: how many unique director names are there in the dataset?\n",
    "unique(\"directors\")"
   ]
  },
  {
   "cell_type": "code",
   "execution_count": 24,
   "metadata": {},
   "outputs": [
    {
     "data": {
      "text/plain": [
       "'Shoulder Arms'"
      ]
     },
     "execution_count": 24,
     "metadata": {},
     "output_type": "execute_result"
    }
   ],
   "source": [
    "# q18: which movie has the highest number of actors? Output should be the movie title in string format.\n",
    "max=0\n",
    "for x in range(len(movies)):\n",
    "    if len(movies[x][\"actors\"])>max:\n",
    "        I = x\n",
    "        max = len(movies[x][\"actors\"])        \n",
    "movies[I][\"title\"]"
   ]
  },
  {
   "cell_type": "code",
   "execution_count": 25,
   "metadata": {},
   "outputs": [
    {
     "data": {
      "text/plain": [
       "6.401659528907912"
      ]
     },
     "execution_count": 25,
     "metadata": {},
     "output_type": "execute_result"
    }
   ],
   "source": [
    "# q19: what is the average movie rating?\n",
    "totalrating = 0\n",
    "for x in movies:\n",
    "    totalrating += x['rating']\n",
    "totalrating/len(movies)   "
   ]
  },
  {
   "cell_type": "code",
   "execution_count": 26,
   "metadata": {},
   "outputs": [
    {
     "data": {
      "text/plain": [
       "'Dr. Strangelove or: How I Learned to Stop Worrying and Love the Bomb'"
      ]
     },
     "execution_count": 26,
     "metadata": {},
     "output_type": "execute_result"
    }
   ],
   "source": [
    "# q20: what is the longest movie title in the dataset (in terms of most characters)?\n",
    "max = 0\n",
    "\n",
    "for movie in movies:\n",
    "    if len(movie['title']) > max:\n",
    "        max = len(movie['title'])\n",
    "        title = movie['title']\n",
    "        \n",
    "title "
   ]
  },
  {
   "cell_type": "code",
   "execution_count": 27,
   "metadata": {},
   "outputs": [],
   "source": [
    "def bucketize(movie_list, movie_key):\n",
    "    new_dict= {}\n",
    "    for partial_dict in movie_list:\n",
    "        if movie_key != \"genres\":\n",
    "            if partial_dict[movie_key] not in new_dict:\n",
    "                new_dict[partial_dict[movie_key]] = [partial_dict]          \n",
    "            else:\n",
    "                new_dict[partial_dict[movie_key]].append(partial_dict) \n",
    "        else:\n",
    "            for i in range(len(partial_dict[movie_key])):\n",
    "                if partial_dict[movie_key][i] not in new_dict:\n",
    "                    new_dict[partial_dict[movie_key][i]] = [partial_dict]\n",
    "                else:\n",
    "                    new_dict[partial_dict[movie_key][i]].append(partial_dict)        \n",
    "                 \n",
    "    return new_dict"
   ]
  },
  {
   "cell_type": "code",
   "execution_count": 28,
   "metadata": {},
   "outputs": [],
   "source": [
    "test_movies = [\n",
    "{\"title\": \"A\", \"year\": 2018, \"style\": \"short\", \"genres\": [\"g1\"]},\n",
    "{\"title\": \"B\", \"year\": 2018, \"style\": \"long\",  \"genres\": [\"g2\"]},\n",
    "{\"title\": \"C\", \"year\": 2019, \"style\": \"short\", \"genres\": [\"g3\"]},\n",
    "{\"title\": \"D\", \"year\": 2019, \"style\": \"long\", \"genres\": [\"g1\", \"g2\", \"g3\"]},\n",
    "]"
   ]
  },
  {
   "cell_type": "code",
   "execution_count": 29,
   "metadata": {},
   "outputs": [
    {
     "data": {
      "text/plain": [
       "{2018: [{'title': 'A', 'year': 2018, 'style': 'short', 'genres': ['g1']},\n",
       "  {'title': 'B', 'year': 2018, 'style': 'long', 'genres': ['g2']}],\n",
       " 2019: [{'title': 'C', 'year': 2019, 'style': 'short', 'genres': ['g3']},\n",
       "  {'title': 'D', 'year': 2019, 'style': 'long', 'genres': ['g1', 'g2', 'g3']}]}"
      ]
     },
     "execution_count": 29,
     "metadata": {},
     "output_type": "execute_result"
    }
   ],
   "source": [
    "# q21: what is bucketize(test_movies, \"year\")?\n",
    "bucketize(test_movies, \"year\")"
   ]
  },
  {
   "cell_type": "code",
   "execution_count": 30,
   "metadata": {},
   "outputs": [
    {
     "data": {
      "text/plain": [
       "{'short': [{'title': 'A', 'year': 2018, 'style': 'short', 'genres': ['g1']},\n",
       "  {'title': 'C', 'year': 2019, 'style': 'short', 'genres': ['g3']}],\n",
       " 'long': [{'title': 'B', 'year': 2018, 'style': 'long', 'genres': ['g2']},\n",
       "  {'title': 'D', 'year': 2019, 'style': 'long', 'genres': ['g1', 'g2', 'g3']}]}"
      ]
     },
     "execution_count": 30,
     "metadata": {},
     "output_type": "execute_result"
    }
   ],
   "source": [
    "# q22: what is bucketize(test_movies, \"style\")?\n",
    "bucketize(test_movies, \"style\")"
   ]
  },
  {
   "cell_type": "code",
   "execution_count": 31,
   "metadata": {},
   "outputs": [
    {
     "data": {
      "text/plain": [
       "{'g1': [{'title': 'A', 'year': 2018, 'style': 'short', 'genres': ['g1']},\n",
       "  {'title': 'D', 'year': 2019, 'style': 'long', 'genres': ['g1', 'g2', 'g3']}],\n",
       " 'g2': [{'title': 'B', 'year': 2018, 'style': 'long', 'genres': ['g2']},\n",
       "  {'title': 'D', 'year': 2019, 'style': 'long', 'genres': ['g1', 'g2', 'g3']}],\n",
       " 'g3': [{'title': 'C', 'year': 2019, 'style': 'short', 'genres': ['g3']},\n",
       "  {'title': 'D', 'year': 2019, 'style': 'long', 'genres': ['g1', 'g2', 'g3']}]}"
      ]
     },
     "execution_count": 31,
     "metadata": {},
     "output_type": "execute_result"
    }
   ],
   "source": [
    "# q23: what is bucketize(test_movies, \"genres\")?\n",
    "bucketize(test_movies, \"genres\")"
   ]
  },
  {
   "cell_type": "code",
   "execution_count": 32,
   "metadata": {},
   "outputs": [
    {
     "data": {
      "text/plain": [
       "{'Crime': [{'title': 'Runaway Jury',\n",
       "   'year': 2003,\n",
       "   'rating': 7.1,\n",
       "   'directors': ['Gary Fleder'],\n",
       "   'actors': ['John Cusack', 'Gene Hackman', 'Dustin Hoffman'],\n",
       "   'genres': ['Crime', 'Drama', 'Thriller']},\n",
       "  {'title': 'Lethal Weapon',\n",
       "   'year': 1987,\n",
       "   'rating': 7.6,\n",
       "   'directors': ['Richard Donner'],\n",
       "   'actors': ['Mel Gibson', 'Danny Glover', 'Gary Busey', 'Mitchell Ryan'],\n",
       "   'genres': ['Action', 'Crime', 'Thriller']}],\n",
       " 'Drama': [{'title': 'Runaway Jury',\n",
       "   'year': 2003,\n",
       "   'rating': 7.1,\n",
       "   'directors': ['Gary Fleder'],\n",
       "   'actors': ['John Cusack', 'Gene Hackman', 'Dustin Hoffman'],\n",
       "   'genres': ['Crime', 'Drama', 'Thriller']}],\n",
       " 'Thriller': [{'title': 'Runaway Jury',\n",
       "   'year': 2003,\n",
       "   'rating': 7.1,\n",
       "   'directors': ['Gary Fleder'],\n",
       "   'actors': ['John Cusack', 'Gene Hackman', 'Dustin Hoffman'],\n",
       "   'genres': ['Crime', 'Drama', 'Thriller']},\n",
       "  {'title': 'Lethal Weapon',\n",
       "   'year': 1987,\n",
       "   'rating': 7.6,\n",
       "   'directors': ['Richard Donner'],\n",
       "   'actors': ['Mel Gibson', 'Danny Glover', 'Gary Busey', 'Mitchell Ryan'],\n",
       "   'genres': ['Action', 'Crime', 'Thriller']}],\n",
       " 'Action': [{'title': 'Lethal Weapon',\n",
       "   'year': 1987,\n",
       "   'rating': 7.6,\n",
       "   'directors': ['Richard Donner'],\n",
       "   'actors': ['Mel Gibson', 'Danny Glover', 'Gary Busey', 'Mitchell Ryan'],\n",
       "   'genres': ['Action', 'Crime', 'Thriller']}]}"
      ]
     },
     "execution_count": 32,
     "metadata": {},
     "output_type": "execute_result"
    }
   ],
   "source": [
    "# q24: what is bucketize(small, \"genres\")?\n",
    "bucketize(small, \"genres\")"
   ]
  },
  {
   "cell_type": "code",
   "execution_count": 34,
   "metadata": {},
   "outputs": [
    {
     "ename": "TypeError",
     "evalue": "unhashable type: 'list'",
     "output_type": "error",
     "traceback": [
      "\u001b[1;31m---------------------------------------------------------------------------\u001b[0m",
      "\u001b[1;31mTypeError\u001b[0m                                 Traceback (most recent call last)",
      "\u001b[1;32m<ipython-input-34-d34638acf7ce>\u001b[0m in \u001b[0;36m<module>\u001b[1;34m\u001b[0m\n\u001b[0;32m      1\u001b[0m \u001b[1;31m# q25: how many different unique actors appear in the small dataset?\u001b[0m\u001b[1;33m\u001b[0m\u001b[1;33m\u001b[0m\u001b[1;33m\u001b[0m\u001b[0m\n\u001b[1;32m----> 2\u001b[1;33m \u001b[0mlen\u001b[0m\u001b[1;33m(\u001b[0m\u001b[0mbucketize\u001b[0m\u001b[1;33m(\u001b[0m\u001b[0msmall\u001b[0m\u001b[1;33m,\u001b[0m \u001b[1;34m\"actors\"\u001b[0m\u001b[1;33m)\u001b[0m\u001b[1;33m)\u001b[0m\u001b[1;33m\u001b[0m\u001b[1;33m\u001b[0m\u001b[0m\n\u001b[0m",
      "\u001b[1;32m<ipython-input-27-6e7325e35eae>\u001b[0m in \u001b[0;36mbucketize\u001b[1;34m(movie_list, movie_key)\u001b[0m\n\u001b[0;32m      3\u001b[0m     \u001b[1;32mfor\u001b[0m \u001b[0mpartial_dict\u001b[0m \u001b[1;32min\u001b[0m \u001b[0mmovie_list\u001b[0m\u001b[1;33m:\u001b[0m\u001b[1;33m\u001b[0m\u001b[1;33m\u001b[0m\u001b[0m\n\u001b[0;32m      4\u001b[0m         \u001b[1;32mif\u001b[0m \u001b[0mmovie_key\u001b[0m \u001b[1;33m!=\u001b[0m \u001b[1;34m\"genres\"\u001b[0m\u001b[1;33m:\u001b[0m\u001b[1;33m\u001b[0m\u001b[1;33m\u001b[0m\u001b[0m\n\u001b[1;32m----> 5\u001b[1;33m             \u001b[1;32mif\u001b[0m \u001b[0mpartial_dict\u001b[0m\u001b[1;33m[\u001b[0m\u001b[0mmovie_key\u001b[0m\u001b[1;33m]\u001b[0m \u001b[1;32mnot\u001b[0m \u001b[1;32min\u001b[0m \u001b[0mnew_dict\u001b[0m\u001b[1;33m:\u001b[0m\u001b[1;33m\u001b[0m\u001b[1;33m\u001b[0m\u001b[0m\n\u001b[0m\u001b[0;32m      6\u001b[0m                 \u001b[0mnew_dict\u001b[0m\u001b[1;33m[\u001b[0m\u001b[0mpartial_dict\u001b[0m\u001b[1;33m[\u001b[0m\u001b[0mmovie_key\u001b[0m\u001b[1;33m]\u001b[0m\u001b[1;33m]\u001b[0m \u001b[1;33m=\u001b[0m \u001b[1;33m[\u001b[0m\u001b[0mpartial_dict\u001b[0m\u001b[1;33m]\u001b[0m\u001b[1;33m\u001b[0m\u001b[1;33m\u001b[0m\u001b[0m\n\u001b[0;32m      7\u001b[0m             \u001b[1;32melse\u001b[0m\u001b[1;33m:\u001b[0m\u001b[1;33m\u001b[0m\u001b[1;33m\u001b[0m\u001b[0m\n",
      "\u001b[1;31mTypeError\u001b[0m: unhashable type: 'list'"
     ]
    }
   ],
   "source": [
    "# q25: how many different unique actors appear in the small dataset?\n",
    "len(bucketize(small, \"actors\"))"
   ]
  },
  {
   "cell_type": "code",
   "execution_count": null,
   "metadata": {},
   "outputs": [],
   "source": [
    "# q26: how many unique actors appear in the full dataset?\n",
    "\n",
    "#for this and all remaining questions, \n",
    "#answer with respect to the full dataset referenced by the movies variable \n",
    "#from stage 1 (we'll ask nothing more regarding small or test_movies).\n",
    "\n",
    "\n",
    "len(bucketize(movies, \"actors\"))"
   ]
  },
  {
   "cell_type": "code",
   "execution_count": 35,
   "metadata": {
    "scrolled": true
   },
   "outputs": [
    {
     "data": {
      "text/plain": [
       "{'Comedy': 485,\n",
       " 'Drama': 1094,\n",
       " 'Romance': 352,\n",
       " 'History': 73,\n",
       " 'Family': 85,\n",
       " 'Mystery': 121,\n",
       " 'Thriller': 250,\n",
       " 'Action': 299,\n",
       " 'Crime': 357,\n",
       " 'Adventure': 283,\n",
       " 'Western': 226,\n",
       " 'Music': 38,\n",
       " 'Animation': 45,\n",
       " 'Sport': 48,\n",
       " 'Fantasy': 59,\n",
       " 'War': 99,\n",
       " 'Sci-Fi': 69,\n",
       " 'Horror': 85}"
      ]
     },
     "execution_count": 35,
     "metadata": {},
     "output_type": "execute_result"
    }
   ],
   "source": [
    "# q27: how many movies are there of each genre?\n",
    "movie_genre = {}\n",
    "for keys in bucketize(movies, \"genres\"):\n",
    "    movie_genre[keys] = len(bucketize(movies, \"genres\")[keys])\n",
    "movie_genre"
   ]
  },
  {
   "cell_type": "code",
   "execution_count": 36,
   "metadata": {},
   "outputs": [],
   "source": [
    "%matplotlib inline"
   ]
  },
  {
   "cell_type": "code",
   "execution_count": 37,
   "metadata": {},
   "outputs": [],
   "source": [
    "import matplotlib, pandas\n",
    "\n",
    "def plot_dict(d, label=\"Please Label Me!!!\"):\n",
    "    ax = pandas.Series(d).sort_index().plot.bar(color=\"black\", fontsize=16)\n",
    "    ax.set_ylabel(label, fontsize=16)"
   ]
  },
  {
   "cell_type": "code",
   "execution_count": 38,
   "metadata": {},
   "outputs": [
    {
     "data": {
      "image/png": "[encoded data removed]",
      "text/plain": [
       "<Figure size 432x288 with 1 Axes>"
      ]
     },
     "metadata": {
      "needs_background": "light"
     },
     "output_type": "display_data"
    }
   ],
   "source": [
    "#q28: how many movies are there of each genre? (plot your answer)\n",
    "plot_dict(movie_genre, label='Number of Movies')"
   ]
  },
  {
   "cell_type": "code",
   "execution_count": 39,
   "metadata": {},
   "outputs": [
    {
     "data": {
      "image/png": "[encoded data removed]",
      "text/plain": [
       "<Figure size 432x288 with 1 Axes>"
      ]
     },
     "metadata": {
      "needs_background": "light"
     },
     "output_type": "display_data"
    }
   ],
   "source": [
    "#q29: how many movies are there of each genre, prior to 2000? (plot your answer)\n",
    "movies_prior_2000 = {}\n",
    "\n",
    "for keys in bucketize(movies, \"genres\"):\n",
    "    for i in range(len(bucketize(movies, \"genres\")[keys])):\n",
    "        if bucketize(movies, \"genres\")[keys][i][\"year\"] < 2000:\n",
    "            if keys not in movies_prior_2000:\n",
    "                movies_prior_2000[keys] = 0\n",
    "            else:\n",
    "                movies_prior_2000[keys] += 1\n",
    "\n",
    "plot_dict(movies_prior_2000, label='Number of Movies')\n",
    "\n",
    "#plot_dict(bucket_counts(filter_year(movies, None, 1999), \"genres\"), \"Movie Count\")"
   ]
  },
  {
   "cell_type": "code",
   "execution_count": 40,
   "metadata": {},
   "outputs": [
    {
     "data": {
      "image/png": "[encoded data removed]",
      "text/plain": [
       "<Figure size 432x288 with 1 Axes>"
      ]
     },
     "metadata": {
      "needs_background": "light"
     },
     "output_type": "display_data"
    }
   ],
   "source": [
    "#q30: how many movies are there of each genre, in or after 2000? (plot your answer)\n",
    "movies_after_2000 = {}\n",
    "bucket = bucketize(movies, \"genres\")\n",
    "for genre_keys in bucket:\n",
    "    for i in range(len(bucket[genre_keys])):\n",
    "        if bucket[genre_keys][i][\"year\"] >= 2000:\n",
    "            if keys not in movies_after_2000:\n",
    "                movies_after_2000[keys] = 0\n",
    "            else:\n",
    "                movies_after_2000[keys] += 1\n",
    "plot_dict(movies_after_2000, label='Number of Movies')"
   ]
  },
  {
   "cell_type": "code",
   "execution_count": 41,
   "metadata": {},
   "outputs": [
    {
     "data": {
      "image/png": "[encoded data removed]",
      "text/plain": [
       "<Figure size 432x288 with 1 Axes>"
      ]
     },
     "metadata": {
      "needs_background": "light"
     },
     "output_type": "display_data"
    }
   ],
   "source": [
    "#q31: how many movies have there been per year, since (and including) 2000? (plot your answer)\n",
    "movies_per_year = {}\n",
    "for keys in bucketize(movies, \"year\"):\n",
    "    if keys >= 2000:\n",
    "        if keys not in movies_per_year:\n",
    "            movies_per_year[keys] = len(bucketize(movies, \"year\")[keys])\n",
    "plot_dict(movies_per_year, label='Number of Movies')"
   ]
  },
  {
   "cell_type": "code",
   "execution_count": 42,
   "metadata": {},
   "outputs": [
    {
     "ename": "TypeError",
     "evalue": "unhashable type: 'list'",
     "output_type": "error",
     "traceback": [
      "\u001b[1;31m---------------------------------------------------------------------------\u001b[0m",
      "\u001b[1;31mTypeError\u001b[0m                                 Traceback (most recent call last)",
      "\u001b[1;32m<ipython-input-42-4c775584dadc>\u001b[0m in \u001b[0;36m<module>\u001b[1;34m\u001b[0m\n\u001b[0;32m      1\u001b[0m \u001b[1;31m#q32: what are the directing career spans of the directors who have directed for at least 30 years?\u001b[0m\u001b[1;33m\u001b[0m\u001b[1;33m\u001b[0m\u001b[1;33m\u001b[0m\u001b[0m\n\u001b[1;32m----> 2\u001b[1;33m \u001b[0mdirectors\u001b[0m \u001b[1;33m=\u001b[0m \u001b[0mbucketize\u001b[0m\u001b[1;33m(\u001b[0m\u001b[0mmovies\u001b[0m\u001b[1;33m,\u001b[0m \u001b[1;34m\"directors\"\u001b[0m\u001b[1;33m)\u001b[0m\u001b[1;33m\u001b[0m\u001b[1;33m\u001b[0m\u001b[0m\n\u001b[0m\u001b[0;32m      3\u001b[0m \u001b[0mdirectors_career\u001b[0m \u001b[1;33m=\u001b[0m \u001b[1;33m{\u001b[0m\u001b[1;33m}\u001b[0m\u001b[1;33m\u001b[0m\u001b[1;33m\u001b[0m\u001b[0m\n\u001b[0;32m      4\u001b[0m \u001b[1;32mfor\u001b[0m \u001b[0mx\u001b[0m \u001b[1;32min\u001b[0m \u001b[0mdirectors\u001b[0m\u001b[1;33m:\u001b[0m\u001b[1;33m\u001b[0m\u001b[1;33m\u001b[0m\u001b[0m\n\u001b[0;32m      5\u001b[0m     \u001b[1;32mif\u001b[0m \u001b[0mlen\u001b[0m\u001b[1;33m(\u001b[0m\u001b[0mdirectors\u001b[0m\u001b[1;33m[\u001b[0m\u001b[0mx\u001b[0m\u001b[1;33m]\u001b[0m\u001b[1;33m)\u001b[0m \u001b[1;33m>\u001b[0m \u001b[1;36m1\u001b[0m\u001b[1;33m:\u001b[0m\u001b[1;33m\u001b[0m\u001b[1;33m\u001b[0m\u001b[0m\n",
      "\u001b[1;32m<ipython-input-27-6e7325e35eae>\u001b[0m in \u001b[0;36mbucketize\u001b[1;34m(movie_list, movie_key)\u001b[0m\n\u001b[0;32m      3\u001b[0m     \u001b[1;32mfor\u001b[0m \u001b[0mpartial_dict\u001b[0m \u001b[1;32min\u001b[0m \u001b[0mmovie_list\u001b[0m\u001b[1;33m:\u001b[0m\u001b[1;33m\u001b[0m\u001b[1;33m\u001b[0m\u001b[0m\n\u001b[0;32m      4\u001b[0m         \u001b[1;32mif\u001b[0m \u001b[0mmovie_key\u001b[0m \u001b[1;33m!=\u001b[0m \u001b[1;34m\"genres\"\u001b[0m\u001b[1;33m:\u001b[0m\u001b[1;33m\u001b[0m\u001b[1;33m\u001b[0m\u001b[0m\n\u001b[1;32m----> 5\u001b[1;33m             \u001b[1;32mif\u001b[0m \u001b[0mpartial_dict\u001b[0m\u001b[1;33m[\u001b[0m\u001b[0mmovie_key\u001b[0m\u001b[1;33m]\u001b[0m \u001b[1;32mnot\u001b[0m \u001b[1;32min\u001b[0m \u001b[0mnew_dict\u001b[0m\u001b[1;33m:\u001b[0m\u001b[1;33m\u001b[0m\u001b[1;33m\u001b[0m\u001b[0m\n\u001b[0m\u001b[0;32m      6\u001b[0m                 \u001b[0mnew_dict\u001b[0m\u001b[1;33m[\u001b[0m\u001b[0mpartial_dict\u001b[0m\u001b[1;33m[\u001b[0m\u001b[0mmovie_key\u001b[0m\u001b[1;33m]\u001b[0m\u001b[1;33m]\u001b[0m \u001b[1;33m=\u001b[0m \u001b[1;33m[\u001b[0m\u001b[0mpartial_dict\u001b[0m\u001b[1;33m]\u001b[0m\u001b[1;33m\u001b[0m\u001b[1;33m\u001b[0m\u001b[0m\n\u001b[0;32m      7\u001b[0m             \u001b[1;32melse\u001b[0m\u001b[1;33m:\u001b[0m\u001b[1;33m\u001b[0m\u001b[1;33m\u001b[0m\u001b[0m\n",
      "\u001b[1;31mTypeError\u001b[0m: unhashable type: 'list'"
     ]
    }
   ],
   "source": [
    "#q32: what are the directing career spans of the directors who have directed for at least 30 years?\n",
    "directors = bucketize(movies, \"directors\")\n",
    "directors_career = {}\n",
    "for x in directors:\n",
    "    if len(directors[x]) > 1:\n",
    "        F = directors[x][0]['year']\n",
    "        L = directors[x][0]['year']\n",
    "        for m in directors[x]:\n",
    "            if m['year'] < F:\n",
    "                F = m['year']\n",
    "            if m['year'] > L:\n",
    "                L = m['year']\n",
    "        career = L - F\n",
    "        if career >= 30:\n",
    "            directors_career[x] = career\n",
    "directors_career"
   ]
  },
  {
   "cell_type": "code",
   "execution_count": null,
   "metadata": {},
   "outputs": [],
   "source": [
    "#q33: what are the acting career spans of the actors who have acted for at least 50 years?\n",
    "actors = bucketize(movies, \"actors\")\n",
    "actors_dict = {}\n",
    "for x in actors:\n",
    "    if len(actors[x]) > 1:\n",
    "        F = actors[x][0]['year']\n",
    "        L = actors[x][0]['year']\n",
    "        for m in actors[x]:\n",
    "            if m['year'] < F:\n",
    "                F = m['year']\n",
    "            if m['year'] > L:\n",
    "                L = m['year']\n",
    "        career = L - F\n",
    "        if career >= 50:\n",
    "            actors_dict[x] = career\n",
    "            \n",
    "actors_dict"
   ]
  },
  {
   "cell_type": "code",
   "execution_count": null,
   "metadata": {},
   "outputs": [],
   "source": [
    "def row_ranking(row):\n",
    "    return row[\"span\"]\n",
    "def top_n_span(buckets, n):\n",
    "    s = buckets\n",
    "    r = []\n",
    "    for name in s:\n",
    "        span = s[name]\n",
    "        r.append({\"name\": name, \"span\": span})\n",
    "    r.sort(key=row_ranking, reverse=True)\n",
    "    return r[:n]"
   ]
  },
  {
   "cell_type": "code",
   "execution_count": null,
   "metadata": {},
   "outputs": [],
   "source": [
    "#q34: who are the 10 directors with the longest careers?\n",
    "directors = bucketize(movies, \"directors\")\n",
    "directors_career = {}\n",
    "for x in directors:\n",
    "    if len(directors[x]) > 1:\n",
    "        F = directors[x][0]['year']\n",
    "        L = directors[x][0]['year']\n",
    "        for m in directors[x]:\n",
    "            if m['year'] < F:\n",
    "                F = m['year']\n",
    "            if m['year'] > L:\n",
    "                L = m['year']\n",
    "        career = L - F\n",
    "        if career >= 0:\n",
    "            directors_career[x] = career\n",
    "directors_career\n",
    "\n",
    "top_n_span(directors_career, 10)"
   ]
  },
  {
   "cell_type": "code",
   "execution_count": null,
   "metadata": {},
   "outputs": [],
   "source": [
    "#Q35: who are the 10 actors with the longest careers?\n",
    "\n",
    "actors = bucketize(movies, \"actors\")\n",
    "actors_dict = {}\n",
    "for x in actors:\n",
    "    if len(actors[x]) > 1:\n",
    "        F = actors[x][0]['year']\n",
    "        L = actors[x][0]['year']\n",
    "        for m in actors[x]:\n",
    "            if m['year'] < F:\n",
    "                F = m['year']\n",
    "            if m['year'] > L:\n",
    "                L = m['year']\n",
    "        career = L - F\n",
    "        if career >= 0:\n",
    "            actors_dict[x] = career\n",
    "            \n",
    "actors_dict\n",
    "\n",
    "top_n_span(actors_dict, 10)"
   ]
  },
  {
   "cell_type": "code",
   "execution_count": null,
   "metadata": {},
   "outputs": [],
   "source": [
    "#q36: what are the three genres in which movies receive the highest median rating?\n",
    "def row_ranking(row):\n",
    "    return row[\"rating\"]\n",
    "\n",
    "def find_median(list):\n",
    "    if (len(list) % 2):\n",
    "        return sorted(list)[(len(list) - 1) // 2]\n",
    "    else:\n",
    "        return (sorted(list)[(len(list) - 1) // 2] + sorted(list)[(len(list) - 1) // 2 + 1])/2\n",
    "    \n",
    "def top_ratings_1(bucketize, n):\n",
    "    final_list = []\n",
    "    for keys in bucketize:\n",
    "        rating_list = []\n",
    "        for movie in bucketize[keys]:\n",
    "            rating_list.append(movie['rating'])\n",
    "        rating_list.sort()\n",
    "        d = {\"category\": keys, \"rating\":find_median(rating_list), \"count\":len(rating_list)}\n",
    "        final_list.append(d)\n",
    "    final_list.sort(key = row_ranking, reverse=True)\n",
    "    return final_list[:n]\n",
    "top_ratings_1(bucketize(movies, \"genres\"), 3)"
   ]
  },
  {
   "cell_type": "code",
   "execution_count": null,
   "metadata": {},
   "outputs": [],
   "source": [
    "#q37: what were the 10 best years for movies?\n",
    "top_ratings_1(bucketize(movies, \"year\"), 10)"
   ]
  },
  {
   "cell_type": "code",
   "execution_count": null,
   "metadata": {},
   "outputs": [],
   "source": [
    "#q38: what were the 5 best years for movies, if we only consider years with at least 10 movies?\n",
    "def top_ratings_2(bucketize, n, y):\n",
    "    final_list = []\n",
    "    for keys in bucketize:\n",
    "        rating_list = []\n",
    "        for movie in bucketize[keys]:\n",
    "            rating_list.append(movie['rating'])\n",
    "        rating_list.sort()\n",
    "        if len(rating_list) >= y:\n",
    "            d = {\"category\": keys, \"rating\":find_median(rating_list), \"count\":len(rating_list)}\n",
    "            final_list.append(d)\n",
    "    final_list.sort(key = row_ranking, reverse=True)\n",
    "    return final_list[:n]\n",
    "top_ratings_2(bucketize(movies, \"year\"), 5, 10)"
   ]
  },
  {
   "cell_type": "code",
   "execution_count": null,
   "metadata": {},
   "outputs": [],
   "source": [
    "#q39: who are the best 4 directors, if we only count directors having at least 3 movies?\n",
    "top_ratings_2(bucketize(movies, \"directors\"), 4, 3)"
   ]
  },
  {
   "cell_type": "code",
   "execution_count": null,
   "metadata": {},
   "outputs": [],
   "source": [
    "#q40: who are the 3 best actors, if we only count actors having at least 5 movies?\n",
    "top_ratings_2(bucketize(movies, \"actors\"), 3, 5)"
   ]
  },
  {
   "cell_type": "code",
   "execution_count": null,
   "metadata": {},
   "outputs": [],
   "source": []
  }
 ],
 "metadata": {
  "kernelspec": {
   "display_name": "Python 3",
   "language": "python",
   "name": "python3"
  },
  "language_info": {
   "codemirror_mode": {
    "name": "ipython",
    "version": 3
   },
   "file_extension": ".py",
   "mimetype": "text/x-python",
   "name": "python",
   "nbconvert_exporter": "python",
   "pygments_lexer": "ipython3",
   "version": "3.8.1"
  }
 },
 "nbformat": 4,
 "nbformat_minor": 2
}
