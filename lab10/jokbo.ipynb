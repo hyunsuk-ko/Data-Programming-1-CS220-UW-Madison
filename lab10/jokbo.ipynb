{
 "cells": [
  {
   "cell_type": "code",
   "execution_count": 1,
   "metadata": {},
   "outputs": [],
   "source": [
    "# project: p10\n",
    "# submitter: hkim876\n",
    "# partner: ychung66"
   ]
  },
  {
   "cell_type": "code",
   "execution_count": 2,
   "metadata": {},
   "outputs": [],
   "source": [
    "# To-dos\n",
    "\n",
    "# 1.download function\n",
    "\n",
    "# 2.https://raw.githubusercontent.com/tylerharter/caraza-harter-com/master/tyler/cs301/fall19/data/countries.json \n",
    "#and store it in countries.json. , download test, expected\n",
    "\n",
    "# 3.create a Dataframe countries from this file\n",
    "\n",
    "# 4.display country.head()\n",
    "\n",
    "# 5. download('capitals.html', 'https://raw.githubusercontent.com/tylerharter/cs301-projects/master/fall19/p10/techslides-snapshot.html')\n",
    "\n",
    "# 6. download BeautifulSoup\n",
    "\n",
    "# 7. Lintering"
   ]
  },
  {
   "cell_type": "code",
   "execution_count": 3,
   "metadata": {},
   "outputs": [],
   "source": [
    "import pandas as pd\n",
    "import requests, json, matplotlib, os, math\n",
    "from bs4 import BeautifulSoup\n",
    "from pandas import Series, DataFrame\n",
    "%matplotlib inline"
   ]
  },
  {
   "cell_type": "code",
   "execution_count": 4,
   "metadata": {},
   "outputs": [],
   "source": [
    "def download(filename, url):\n",
    "    if os.path.exists(filename):\n",
    "        return (str(filename) + \" already exists!\")\n",
    "    else:\n",
    "        r=requests.get(url)\n",
    "        r.raise_for_status()\n",
    "        f = open(filename, \"w\", encoding=\"utf-8\")\n",
    "        f.write(r.text)\n",
    "        f.close()\n",
    "    return (str(filename) + \" created!\")"
   ]
  },
  {
   "cell_type": "code",
   "execution_count": 5,
   "metadata": {},
   "outputs": [
    {
     "data": {
      "text/plain": [
       "'countries.json already exists!'"
      ]
     },
     "execution_count": 5,
     "metadata": {},
     "output_type": "execute_result"
    }
   ],
   "source": [
    "download('countries.json', 'https://raw.githubusercontent.com/tylerharter/caraza-harter-com/master/tyler/cs301/fall19/data/countries.json')"
   ]
  },
  {
   "cell_type": "code",
   "execution_count": 6,
   "metadata": {},
   "outputs": [
    {
     "data": {
      "text/html": [
       "<div>\n",
       "<style scoped>\n",
       "    .dataframe tbody tr th:only-of-type {\n",
       "        vertical-align: middle;\n",
       "    }\n",
       "\n",
       "    .dataframe tbody tr th {\n",
       "        vertical-align: top;\n",
       "    }\n",
       "\n",
       "    .dataframe thead th {\n",
       "        text-align: right;\n",
       "    }\n",
       "</style>\n",
       "<table border=\"1\" class=\"dataframe\">\n",
       "  <thead>\n",
       "    <tr style=\"text-align: right;\">\n",
       "      <th></th>\n",
       "      <th>area</th>\n",
       "      <th>birth-rate</th>\n",
       "      <th>coastline</th>\n",
       "      <th>continent</th>\n",
       "      <th>country</th>\n",
       "      <th>death-rate</th>\n",
       "      <th>gdp-per-capita</th>\n",
       "      <th>infant-mortality</th>\n",
       "      <th>literacy</th>\n",
       "      <th>net-migration</th>\n",
       "      <th>phones</th>\n",
       "      <th>population</th>\n",
       "      <th>region</th>\n",
       "    </tr>\n",
       "  </thead>\n",
       "  <tbody>\n",
       "    <tr>\n",
       "      <th>0</th>\n",
       "      <td>756950</td>\n",
       "      <td>15.23</td>\n",
       "      <td>0.85</td>\n",
       "      <td>South America</td>\n",
       "      <td>Chile</td>\n",
       "      <td>5.81</td>\n",
       "      <td>9900</td>\n",
       "      <td>8.80</td>\n",
       "      <td>96,2</td>\n",
       "      <td>0.00</td>\n",
       "      <td>213,0</td>\n",
       "      <td>16134219</td>\n",
       "      <td>LATIN AMER. &amp; CARIB</td>\n",
       "    </tr>\n",
       "    <tr>\n",
       "      <th>1</th>\n",
       "      <td>665</td>\n",
       "      <td>17.80</td>\n",
       "      <td>24.21</td>\n",
       "      <td>Asia</td>\n",
       "      <td>Bahrain</td>\n",
       "      <td>4.14</td>\n",
       "      <td>16900</td>\n",
       "      <td>17.27</td>\n",
       "      <td>89,1</td>\n",
       "      <td>1.05</td>\n",
       "      <td>281,3</td>\n",
       "      <td>698585</td>\n",
       "      <td>NEAR EAST</td>\n",
       "    </tr>\n",
       "    <tr>\n",
       "      <th>2</th>\n",
       "      <td>22966</td>\n",
       "      <td>28.84</td>\n",
       "      <td>1.68</td>\n",
       "      <td>North America</td>\n",
       "      <td>Belize</td>\n",
       "      <td>5.72</td>\n",
       "      <td>4900</td>\n",
       "      <td>25.69</td>\n",
       "      <td>94,1</td>\n",
       "      <td>0.00</td>\n",
       "      <td>115,7</td>\n",
       "      <td>287730</td>\n",
       "      <td>LATIN AMER. &amp; CARIB</td>\n",
       "    </tr>\n",
       "    <tr>\n",
       "      <th>3</th>\n",
       "      <td>582650</td>\n",
       "      <td>39.72</td>\n",
       "      <td>0.09</td>\n",
       "      <td>Africa</td>\n",
       "      <td>Kenya</td>\n",
       "      <td>14.02</td>\n",
       "      <td>1000</td>\n",
       "      <td>61.47</td>\n",
       "      <td>85,1</td>\n",
       "      <td>-0.10</td>\n",
       "      <td>8,1</td>\n",
       "      <td>34707817</td>\n",
       "      <td>SUB-SAHARAN AFRICA</td>\n",
       "    </tr>\n",
       "    <tr>\n",
       "      <th>4</th>\n",
       "      <td>11854</td>\n",
       "      <td>33.05</td>\n",
       "      <td>3.12</td>\n",
       "      <td>Australia</td>\n",
       "      <td>Marshall Islands</td>\n",
       "      <td>4.78</td>\n",
       "      <td>1600</td>\n",
       "      <td>29.45</td>\n",
       "      <td>93,7</td>\n",
       "      <td>-6.04</td>\n",
       "      <td>91,2</td>\n",
       "      <td>60422</td>\n",
       "      <td>OCEANIA</td>\n",
       "    </tr>\n",
       "  </tbody>\n",
       "</table>\n",
       "</div>"
      ],
      "text/plain": [
       "     area  birth-rate  coastline      continent           country  death-rate  \\\n",
       "0  756950       15.23       0.85  South America             Chile        5.81   \n",
       "1     665       17.80      24.21           Asia           Bahrain        4.14   \n",
       "2   22966       28.84       1.68  North America            Belize        5.72   \n",
       "3  582650       39.72       0.09         Africa             Kenya       14.02   \n",
       "4   11854       33.05       3.12      Australia  Marshall Islands        4.78   \n",
       "\n",
       "   gdp-per-capita  infant-mortality literacy  net-migration phones  \\\n",
       "0            9900              8.80     96,2           0.00  213,0   \n",
       "1           16900             17.27     89,1           1.05  281,3   \n",
       "2            4900             25.69     94,1           0.00  115,7   \n",
       "3            1000             61.47     85,1          -0.10    8,1   \n",
       "4            1600             29.45     93,7          -6.04   91,2   \n",
       "\n",
       "   population               region  \n",
       "0    16134219  LATIN AMER. & CARIB  \n",
       "1      698585            NEAR EAST  \n",
       "2      287730  LATIN AMER. & CARIB  \n",
       "3    34707817   SUB-SAHARAN AFRICA  \n",
       "4       60422              OCEANIA  "
      ]
     },
     "execution_count": 6,
     "metadata": {},
     "output_type": "execute_result"
    }
   ],
   "source": [
    "countries = pd.read_json('countries.json')\n",
    "countries.head()"
   ]
  },
  {
   "cell_type": "code",
   "execution_count": 7,
   "metadata": {},
   "outputs": [
    {
     "data": {
      "text/plain": [
       "174"
      ]
     },
     "execution_count": 7,
     "metadata": {},
     "output_type": "execute_result"
    }
   ],
   "source": [
    "#Q1: How many countries do we have in our dataset?\n",
    "len(countries)"
   ]
  },
  {
   "cell_type": "code",
   "execution_count": 8,
   "metadata": {},
   "outputs": [
    {
     "data": {
      "text/plain": [
       "127170843"
      ]
     },
     "execution_count": 8,
     "metadata": {},
     "output_type": "execute_result"
    }
   ],
   "source": [
    "#Q2: what is the total area across all the countries in our dataset?\n",
    "countries[\"area\"].sum()"
   ]
  },
  {
   "cell_type": "code",
   "execution_count": 9,
   "metadata": {},
   "outputs": [
    {
     "data": {
      "text/plain": [
       "'capitals.html created!'"
      ]
     },
     "execution_count": 9,
     "metadata": {},
     "output_type": "execute_result"
    }
   ],
   "source": [
    "download('capitals.html', 'https://raw.githubusercontent.com/tylerharter/cs301-projects/master/fall19/p10/techslides-snapshot.html')"
   ]
  },
  {
   "cell_type": "code",
   "execution_count": 10,
   "metadata": {},
   "outputs": [],
   "source": [
    "f = open('capitals.html')\n",
    "text = f.read()\n",
    "f.close()\n",
    "soup = BeautifulSoup(text, 'html.parser')\n",
    "capitals = []\n",
    "country_name = list(countries[\"country\"])\n",
    "for table in soup.find_all('tr'):\n",
    "    cells = table.find_all('td')\n",
    "    if cells[0].get_text() not in country_name:\n",
    "        continue\n",
    "    dic = {}\n",
    "    dic[\"country\"] = cells[0].get_text()\n",
    "    dic[\"capital\"] = cells[1].get_text()\n",
    "    dic[\"latitude\"] = cells[2].get_text()\n",
    "    dic[\"longitude\"] = cells[3].get_text()\n",
    "    capitals.append(dic)\n",
    "f = open(\"capitals.json\", \"w\")\n",
    "json.dump(capitals, f)\n",
    "f.close()"
   ]
  },
  {
   "cell_type": "code",
   "execution_count": 11,
   "metadata": {},
   "outputs": [
    {
     "data": {
      "text/html": [
       "<div>\n",
       "<style scoped>\n",
       "    .dataframe tbody tr th:only-of-type {\n",
       "        vertical-align: middle;\n",
       "    }\n",
       "\n",
       "    .dataframe tbody tr th {\n",
       "        vertical-align: top;\n",
       "    }\n",
       "\n",
       "    .dataframe thead th {\n",
       "        text-align: right;\n",
       "    }\n",
       "</style>\n",
       "<table border=\"1\" class=\"dataframe\">\n",
       "  <thead>\n",
       "    <tr style=\"text-align: right;\">\n",
       "      <th></th>\n",
       "      <th>country</th>\n",
       "      <th>capital</th>\n",
       "      <th>latitude</th>\n",
       "      <th>longitude</th>\n",
       "    </tr>\n",
       "  </thead>\n",
       "  <tbody>\n",
       "    <tr>\n",
       "      <th>0</th>\n",
       "      <td>Afghanistan</td>\n",
       "      <td>Kabul</td>\n",
       "      <td>34.516667</td>\n",
       "      <td>69.183333</td>\n",
       "    </tr>\n",
       "    <tr>\n",
       "      <th>1</th>\n",
       "      <td>Albania</td>\n",
       "      <td>Tirana</td>\n",
       "      <td>41.316667</td>\n",
       "      <td>19.816667</td>\n",
       "    </tr>\n",
       "    <tr>\n",
       "      <th>2</th>\n",
       "      <td>Algeria</td>\n",
       "      <td>Algiers</td>\n",
       "      <td>36.750000</td>\n",
       "      <td>3.050000</td>\n",
       "    </tr>\n",
       "    <tr>\n",
       "      <th>3</th>\n",
       "      <td>Anguilla</td>\n",
       "      <td>The Valley</td>\n",
       "      <td>18.216667</td>\n",
       "      <td>-63.050000</td>\n",
       "    </tr>\n",
       "    <tr>\n",
       "      <th>4</th>\n",
       "      <td>Argentina</td>\n",
       "      <td>Buenos Aires</td>\n",
       "      <td>-34.583333</td>\n",
       "      <td>-58.666667</td>\n",
       "    </tr>\n",
       "  </tbody>\n",
       "</table>\n",
       "</div>"
      ],
      "text/plain": [
       "       country       capital   latitude  longitude\n",
       "0  Afghanistan         Kabul  34.516667  69.183333\n",
       "1      Albania        Tirana  41.316667  19.816667\n",
       "2      Algeria       Algiers  36.750000   3.050000\n",
       "3     Anguilla    The Valley  18.216667 -63.050000\n",
       "4    Argentina  Buenos Aires -34.583333 -58.666667"
      ]
     },
     "execution_count": 11,
     "metadata": {},
     "output_type": "execute_result"
    }
   ],
   "source": [
    "capitals = pd.read_json('capitals.json')\n",
    "capitals.head()"
   ]
  },
  {
   "cell_type": "code",
   "execution_count": 12,
   "metadata": {},
   "outputs": [
    {
     "data": {
      "text/plain": [
       "['Afghanistan',\n",
       " 'Albania',\n",
       " 'Algeria',\n",
       " 'Anguilla',\n",
       " 'Argentina',\n",
       " 'Armenia',\n",
       " 'Aruba',\n",
       " 'Australia',\n",
       " 'Austria',\n",
       " 'Azerbaijan',\n",
       " 'Bahrain',\n",
       " 'Bangladesh',\n",
       " 'Barbados',\n",
       " 'Belarus',\n",
       " 'Belgium',\n",
       " 'Belize',\n",
       " 'Benin',\n",
       " 'Bermuda',\n",
       " 'Bhutan',\n",
       " 'Bolivia',\n",
       " 'Botswana',\n",
       " 'Brazil',\n",
       " 'Bulgaria',\n",
       " 'Burkina Faso',\n",
       " 'Burundi',\n",
       " 'Cambodia',\n",
       " 'Cameroon',\n",
       " 'Canada',\n",
       " 'Cape Verde',\n",
       " 'Cayman Islands',\n",
       " 'Chad',\n",
       " 'Chile',\n",
       " 'China',\n",
       " 'Colombia',\n",
       " 'Comoros',\n",
       " 'Costa Rica',\n",
       " 'Croatia',\n",
       " 'Cuba',\n",
       " 'Czech Republic',\n",
       " 'Denmark',\n",
       " 'Djibouti',\n",
       " 'Dominica',\n",
       " 'Dominican Republic',\n",
       " 'Ecuador',\n",
       " 'Egypt',\n",
       " 'El Salvador',\n",
       " 'Equatorial Guinea',\n",
       " 'Eritrea',\n",
       " 'Estonia',\n",
       " 'Ethiopia',\n",
       " 'Fiji',\n",
       " 'Finland',\n",
       " 'France',\n",
       " 'French Polynesia',\n",
       " 'Gabon',\n",
       " 'Georgia',\n",
       " 'Germany',\n",
       " 'Ghana',\n",
       " 'Greece',\n",
       " 'Grenada',\n",
       " 'Guam',\n",
       " 'Guatemala',\n",
       " 'Guinea',\n",
       " 'Guinea-Bissau',\n",
       " 'Guyana',\n",
       " 'Haiti',\n",
       " 'Honduras',\n",
       " 'Hungary',\n",
       " 'Iceland',\n",
       " 'India',\n",
       " 'Indonesia',\n",
       " 'Iran',\n",
       " 'Iraq',\n",
       " 'Ireland',\n",
       " 'Israel',\n",
       " 'Italy',\n",
       " 'Jamaica',\n",
       " 'Japan',\n",
       " 'Jordan',\n",
       " 'Kazakhstan',\n",
       " 'Kenya',\n",
       " 'Kuwait',\n",
       " 'Kyrgyzstan',\n",
       " 'Laos',\n",
       " 'Latvia',\n",
       " 'Lebanon',\n",
       " 'Lesotho',\n",
       " 'Liberia',\n",
       " 'Libya',\n",
       " 'Liechtenstein',\n",
       " 'Lithuania',\n",
       " 'Luxembourg',\n",
       " 'Madagascar',\n",
       " 'Malawi',\n",
       " 'Malaysia',\n",
       " 'Maldives',\n",
       " 'Mali',\n",
       " 'Malta',\n",
       " 'Marshall Islands',\n",
       " 'Mauritania',\n",
       " 'Mauritius',\n",
       " 'Mexico',\n",
       " 'Moldova',\n",
       " 'Monaco',\n",
       " 'Mongolia',\n",
       " 'Morocco',\n",
       " 'Mozambique',\n",
       " 'Namibia',\n",
       " 'Nepal',\n",
       " 'Netherlands',\n",
       " 'New Caledonia',\n",
       " 'New Zealand',\n",
       " 'Nicaragua',\n",
       " 'Niger',\n",
       " 'Nigeria',\n",
       " 'Norway',\n",
       " 'Oman',\n",
       " 'Pakistan',\n",
       " 'Palau',\n",
       " 'Panama',\n",
       " 'Papua New Guinea',\n",
       " 'Paraguay',\n",
       " 'Peru',\n",
       " 'Philippines',\n",
       " 'Poland',\n",
       " 'Portugal',\n",
       " 'Puerto Rico',\n",
       " 'Qatar',\n",
       " 'Romania',\n",
       " 'Russia',\n",
       " 'Rwanda',\n",
       " 'Saint Helena',\n",
       " 'Saint Lucia',\n",
       " 'Saint Vincent and the Grenadines',\n",
       " 'Samoa',\n",
       " 'San Marino',\n",
       " 'Saudi Arabia',\n",
       " 'Senegal',\n",
       " 'Seychelles',\n",
       " 'Sierra Leone',\n",
       " 'Singapore',\n",
       " 'Slovenia',\n",
       " 'Somalia',\n",
       " 'South Africa',\n",
       " 'Spain',\n",
       " 'Sri Lanka',\n",
       " 'Sudan',\n",
       " 'Suriname',\n",
       " 'Swaziland',\n",
       " 'Sweden',\n",
       " 'Switzerland',\n",
       " 'Syria',\n",
       " 'Taiwan',\n",
       " 'Tajikistan',\n",
       " 'Tanzania',\n",
       " 'Thailand',\n",
       " 'Togo',\n",
       " 'Tonga',\n",
       " 'Tunisia',\n",
       " 'Turkey',\n",
       " 'Turkmenistan',\n",
       " 'Uganda',\n",
       " 'Ukraine',\n",
       " 'United Arab Emirates',\n",
       " 'United Kingdom',\n",
       " 'United States',\n",
       " 'Uruguay',\n",
       " 'Uzbekistan',\n",
       " 'Vanuatu',\n",
       " 'Venezuela',\n",
       " 'Vietnam',\n",
       " 'Yemen',\n",
       " 'Zambia',\n",
       " 'Zimbabwe']"
      ]
     },
     "execution_count": 12,
     "metadata": {},
     "output_type": "execute_result"
    }
   ],
   "source": [
    "#Q3: What are the country names in capitals.json?\n",
    "list(capitals[\"country\"])\n"
   ]
  },
  {
   "cell_type": "code",
   "execution_count": 13,
   "metadata": {},
   "outputs": [
    {
     "data": {
      "text/plain": [
       "'Havana'"
      ]
     },
     "execution_count": 13,
     "metadata": {},
     "output_type": "execute_result"
    }
   ],
   "source": [
    "#Q4: What is the capital of Cuba?\n",
    "country= capitals[\"country\"]\n",
    "capital = capitals[\"capital\"]  \n",
    "i = 0 \n",
    "for j in range(len(country)):\n",
    "    if country[j] == 'Cuba':\n",
    "        i = j\n",
    "capital[i]"
   ]
  },
  {
   "cell_type": "code",
   "execution_count": 14,
   "metadata": {},
   "outputs": [
    {
     "data": {
      "text/plain": [
       "'Georgia'"
      ]
     },
     "execution_count": 14,
     "metadata": {},
     "output_type": "execute_result"
    }
   ],
   "source": [
    "#Q5: Which country's capital is Tbilisi?\n",
    "i = 0\n",
    "for j in range(len(capital)):\n",
    "    if capitals[\"capital\"][j] == 'Tbilisi':\n",
    "        i = j \n",
    "country[i]"
   ]
  },
  {
   "cell_type": "code",
   "execution_count": 15,
   "metadata": {},
   "outputs": [
    {
     "data": {
      "text/plain": [
       "['New Zealand',\n",
       " 'Australia',\n",
       " 'Uruguay',\n",
       " 'Argentina',\n",
       " 'Chile',\n",
       " 'Lesotho',\n",
       " 'Swaziland']"
      ]
     },
     "execution_count": 15,
     "metadata": {},
     "output_type": "execute_result"
    }
   ],
   "source": [
    "#Q6: Which 7 countries have the southern-most capitals?\n",
    "southern_most_c = capitals.sort_values(by=['latitude'])\n",
    "country_list = []\n",
    "for i in southern_most_c['country']:\n",
    "    country_list.append(i)\n",
    "country_list[:7]"
   ]
  },
  {
   "cell_type": "code",
   "execution_count": 16,
   "metadata": {},
   "outputs": [
    {
     "data": {
      "text/plain": [
       "['Iceland', 'Finland', 'Norway', 'Estonia', 'Sweden']"
      ]
     },
     "execution_count": 16,
     "metadata": {},
     "output_type": "execute_result"
    }
   ],
   "source": [
    "#Q7: Which 5 countries have the northern-most capitals?\n",
    "#Copied code from https://www.geeksforgeeks.org/python-reversing-list/\n",
    "def Reverse(lst): \n",
    "    lst.reverse() \n",
    "    return lst \n",
    "Reverse(country_list[-5:])"
   ]
  },
  {
   "cell_type": "code",
   "execution_count": 17,
   "metadata": {},
   "outputs": [
    {
     "data": {
      "text/html": [
       "<div>\n",
       "<style scoped>\n",
       "    .dataframe tbody tr th:only-of-type {\n",
       "        vertical-align: middle;\n",
       "    }\n",
       "\n",
       "    .dataframe tbody tr th {\n",
       "        vertical-align: top;\n",
       "    }\n",
       "\n",
       "    .dataframe thead th {\n",
       "        text-align: right;\n",
       "    }\n",
       "</style>\n",
       "<table border=\"1\" class=\"dataframe\">\n",
       "  <thead>\n",
       "    <tr style=\"text-align: right;\">\n",
       "      <th></th>\n",
       "      <th>birth-rate</th>\n",
       "      <th>death-rate</th>\n",
       "    </tr>\n",
       "  </thead>\n",
       "  <tbody>\n",
       "    <tr>\n",
       "      <th>count</th>\n",
       "      <td>174.000000</td>\n",
       "      <td>174.000000</td>\n",
       "    </tr>\n",
       "    <tr>\n",
       "      <th>mean</th>\n",
       "      <td>22.463851</td>\n",
       "      <td>9.625172</td>\n",
       "    </tr>\n",
       "    <tr>\n",
       "      <th>std</th>\n",
       "      <td>11.278992</td>\n",
       "      <td>5.187143</td>\n",
       "    </tr>\n",
       "    <tr>\n",
       "      <th>min</th>\n",
       "      <td>8.250000</td>\n",
       "      <td>2.410000</td>\n",
       "    </tr>\n",
       "    <tr>\n",
       "      <th>25%</th>\n",
       "      <td>12.597500</td>\n",
       "      <td>6.027500</td>\n",
       "    </tr>\n",
       "    <tr>\n",
       "      <th>50%</th>\n",
       "      <td>20.010000</td>\n",
       "      <td>8.230000</td>\n",
       "    </tr>\n",
       "    <tr>\n",
       "      <th>75%</th>\n",
       "      <td>29.860000</td>\n",
       "      <td>11.715000</td>\n",
       "    </tr>\n",
       "    <tr>\n",
       "      <th>max</th>\n",
       "      <td>50.730000</td>\n",
       "      <td>29.740000</td>\n",
       "    </tr>\n",
       "  </tbody>\n",
       "</table>\n",
       "</div>"
      ],
      "text/plain": [
       "       birth-rate  death-rate\n",
       "count  174.000000  174.000000\n",
       "mean    22.463851    9.625172\n",
       "std     11.278992    5.187143\n",
       "min      8.250000    2.410000\n",
       "25%     12.597500    6.027500\n",
       "50%     20.010000    8.230000\n",
       "75%     29.860000   11.715000\n",
       "max     50.730000   29.740000"
      ]
     },
     "execution_count": 17,
     "metadata": {},
     "output_type": "execute_result"
    }
   ],
   "source": [
    "#Q8: For birth-rate and death-rate, what are various summary statistics (e.g., mean, max, standard deviation, etc)?\n",
    "DataFrame({'birth-rate':countries['birth-rate'], 'death-rate':countries['death-rate']}).describe()"
   ]
  },
  {
   "cell_type": "code",
   "execution_count": 18,
   "metadata": {},
   "outputs": [
    {
     "data": {
      "text/html": [
       "<div>\n",
       "<style scoped>\n",
       "    .dataframe tbody tr th:only-of-type {\n",
       "        vertical-align: middle;\n",
       "    }\n",
       "\n",
       "    .dataframe tbody tr th {\n",
       "        vertical-align: top;\n",
       "    }\n",
       "\n",
       "    .dataframe thead th {\n",
       "        text-align: right;\n",
       "    }\n",
       "</style>\n",
       "<table border=\"1\" class=\"dataframe\">\n",
       "  <thead>\n",
       "    <tr style=\"text-align: right;\">\n",
       "      <th></th>\n",
       "      <th>literacy</th>\n",
       "      <th>phones</th>\n",
       "    </tr>\n",
       "  </thead>\n",
       "  <tbody>\n",
       "    <tr>\n",
       "      <th>count</th>\n",
       "      <td>174.000000</td>\n",
       "      <td>174.000000</td>\n",
       "    </tr>\n",
       "    <tr>\n",
       "      <th>mean</th>\n",
       "      <td>82.362069</td>\n",
       "      <td>215.770690</td>\n",
       "    </tr>\n",
       "    <tr>\n",
       "      <th>std</th>\n",
       "      <td>20.003166</td>\n",
       "      <td>218.713811</td>\n",
       "    </tr>\n",
       "    <tr>\n",
       "      <th>min</th>\n",
       "      <td>17.600000</td>\n",
       "      <td>1.300000</td>\n",
       "    </tr>\n",
       "    <tr>\n",
       "      <th>25%</th>\n",
       "      <td>70.100000</td>\n",
       "      <td>32.000000</td>\n",
       "    </tr>\n",
       "    <tr>\n",
       "      <th>50%</th>\n",
       "      <td>92.100000</td>\n",
       "      <td>140.350000</td>\n",
       "    </tr>\n",
       "    <tr>\n",
       "      <th>75%</th>\n",
       "      <td>98.000000</td>\n",
       "      <td>331.750000</td>\n",
       "    </tr>\n",
       "    <tr>\n",
       "      <th>max</th>\n",
       "      <td>100.000000</td>\n",
       "      <td>1035.600000</td>\n",
       "    </tr>\n",
       "  </tbody>\n",
       "</table>\n",
       "</div>"
      ],
      "text/plain": [
       "         literacy       phones\n",
       "count  174.000000   174.000000\n",
       "mean    82.362069   215.770690\n",
       "std     20.003166   218.713811\n",
       "min     17.600000     1.300000\n",
       "25%     70.100000    32.000000\n",
       "50%     92.100000   140.350000\n",
       "75%     98.000000   331.750000\n",
       "max    100.000000  1035.600000"
      ]
     },
     "execution_count": 18,
     "metadata": {},
     "output_type": "execute_result"
    }
   ],
   "source": [
    "#Q9: For columns literacy and phones, what are various summary statistics?\n",
    "# convert the column of strings to a column of floats.\n",
    "# learn how to use the astype and replace Pandas functions.\n",
    "\n",
    "literacy = pd.Series(countries['literacy']).replace(',', '.', regex = True)\n",
    "phones = pd.Series(countries['phones']).replace(',', '.', regex = True)\n",
    "df_2 = DataFrame({'literacy':literacy.astype('float'), \n",
    "                             'phones':phones.astype('float')})\n",
    "countries['phones'] = phones.astype('float')\n",
    "countries['literacy'] = literacy.astype('float')\n",
    "df_2.describe()"
   ]
  },
  {
   "cell_type": "code",
   "execution_count": 19,
   "metadata": {},
   "outputs": [
    {
     "data": {
      "text/plain": [
       "'Belarus'"
      ]
     },
     "execution_count": 19,
     "metadata": {},
     "output_type": "execute_result"
    }
   ],
   "source": [
    "#Q10: What is the largest land-locked country in Europe?\n",
    "#A \"land-locked\" country is one that has zero coastline. Largest is in terms of area.  \n",
    "\n",
    "#countries_by_area = countries.sort_values(by = 'area', ascending = False)\n",
    "#list(countries_by_area[countries['coastline']==0][countries['continent'] == 'Europe']['country'])[0]\n",
    "\n",
    "ll = countries[countries.coastline == 0]\n",
    "next(iter(ll[ll.continent == \"Europe\"].sort_values(by=\"area\", ascending=False).country))\n"
   ]
  },
  {
   "cell_type": "code",
   "execution_count": 20,
   "metadata": {},
   "outputs": [
    {
     "data": {
      "text/plain": [
       "'Kazakhstan'"
      ]
     },
     "execution_count": 20,
     "metadata": {},
     "output_type": "execute_result"
    }
   ],
   "source": [
    "#Q11: What is the largest land-locked country in Asia?\n",
    "\n",
    "#countries_by_area = countries.sort_values(by = 'area', ascending = False)\n",
    "#list(countries_by_area[countries['coastline']==0][countries['continent'] == 'Asia']['country'])[0]\n",
    "\n",
    "ll = countries[countries.coastline == 0]\n",
    "next(iter(ll[ll.continent == \"Asia\"].sort_values(by=\"area\", ascending=False).country))"
   ]
  },
  {
   "cell_type": "code",
   "execution_count": 21,
   "metadata": {},
   "outputs": [
    {
     "data": {
      "text/plain": [
       "'Afghanistan'"
      ]
     },
     "execution_count": 21,
     "metadata": {},
     "output_type": "execute_result"
    }
   ],
   "source": [
    "#Q12: What is the most populous land-locked country in Asia?\n",
    "\n",
    "#pop = countries.sort_values(by = 'population', ascending = False)\n",
    "#list(pop[countries['continent'] == 'Asia'][countries['coastline'] == 0]['country'])[0]\n",
    "\n",
    "next(iter(ll[ll.continent == 'Asia'].sort_values(by = 'population', ascending = False).country))"
   ]
  },
  {
   "cell_type": "code",
   "execution_count": 22,
   "metadata": {},
   "outputs": [],
   "source": [
    "import numpy as np\n",
    "def distance(lat1, lon1, lat2, lon2): \n",
    "    R = 3956\n",
    "    dlon = math.radians(lon2 - lon1)\n",
    "    dlat = math.radians(lat2 - lat1)\n",
    "    a = (math.sin(dlat/2))**2 + math.cos(math.radians(lat1)) * math.cos(math.radians(lat2)) * (math.sin(dlon/2))**2\n",
    "    c = 2 * np.arcsin(min(1, math.sqrt(a)))\n",
    "    d = R * c\n",
    "    return d"
   ]
  },
  {
   "cell_type": "code",
   "execution_count": 23,
   "metadata": {},
   "outputs": [
    {
     "data": {
      "text/plain": [
       "1.4338994920734274"
      ]
     },
     "execution_count": 23,
     "metadata": {},
     "output_type": "execute_result"
    }
   ],
   "source": [
    "#Q13: What is the distance between Camp Randall Stadium and the Wisconsin State Capital?\n",
    "#1.433899492072933\n",
    "distance(43.070231,-89.411893, 43.074645,-89.384113)"
   ]
  },
  {
   "cell_type": "code",
   "execution_count": 24,
   "metadata": {},
   "outputs": [
    {
     "data": {
      "text/plain": [
       "6032.330932363535"
      ]
     },
     "execution_count": 24,
     "metadata": {},
     "output_type": "execute_result"
    }
   ],
   "source": [
    "#Q14: What is the distance between France and Japan?\n",
    "#6032.330932363535\n",
    "\n",
    "France = capitals[capitals.country == 'France']\n",
    "France_lat = float(France['latitude'])\n",
    "France_lon = float(France['longitude'])\n",
    "\n",
    "Japan = capitals[capitals.country == 'Japan']\n",
    "Japan_lat = float(Japan['latitude'])\n",
    "Japan_lon = float(Japan['longitude'])\n",
    "\n",
    "\n",
    "distance(France_lat, France_lon, Japan_lat, Japan_lon)"
   ]
  },
  {
   "cell_type": "code",
   "execution_count": 25,
   "metadata": {},
   "outputs": [
    {
     "data": {
      "text/html": [
       "<div>\n",
       "<style scoped>\n",
       "    .dataframe tbody tr th:only-of-type {\n",
       "        vertical-align: middle;\n",
       "    }\n",
       "\n",
       "    .dataframe tbody tr th {\n",
       "        vertical-align: top;\n",
       "    }\n",
       "\n",
       "    .dataframe thead th {\n",
       "        text-align: right;\n",
       "    }\n",
       "</style>\n",
       "<table border=\"1\" class=\"dataframe\">\n",
       "  <thead>\n",
       "    <tr style=\"text-align: right;\">\n",
       "      <th></th>\n",
       "      <th>Guam</th>\n",
       "      <th>New Zealand</th>\n",
       "      <th>Australia</th>\n",
       "    </tr>\n",
       "  </thead>\n",
       "  <tbody>\n",
       "    <tr>\n",
       "      <th>Guam</th>\n",
       "      <td>NaN</td>\n",
       "      <td>4239.314912</td>\n",
       "      <td>3377.103870</td>\n",
       "    </tr>\n",
       "    <tr>\n",
       "      <th>New Zealand</th>\n",
       "      <td>4239.314912</td>\n",
       "      <td>NaN</td>\n",
       "      <td>1445.147895</td>\n",
       "    </tr>\n",
       "    <tr>\n",
       "      <th>Australia</th>\n",
       "      <td>3377.103870</td>\n",
       "      <td>1445.147895</td>\n",
       "      <td>NaN</td>\n",
       "    </tr>\n",
       "  </tbody>\n",
       "</table>\n",
       "</div>"
      ],
      "text/plain": [
       "                    Guam  New Zealand    Australia\n",
       "Guam                 NaN  4239.314912  3377.103870\n",
       "New Zealand  4239.314912          NaN  1445.147895\n",
       "Australia    3377.103870  1445.147895          NaN"
      ]
     },
     "execution_count": 25,
     "metadata": {},
     "output_type": "execute_result"
    }
   ],
   "source": [
    "#Q15: What are the distances between Guam, New Zealand, and Australia?\n",
    "\n",
    "countries_list = ['Guam','New Zealand','Australia']\n",
    "df = pd.DataFrame(index = countries_list, columns = countries_list, dtype='float64')\n",
    "\n",
    "def distance_2(country_1, country_2):\n",
    "    lat_1 = capitals[capitals.country == country_1]['latitude'].iloc[0]\n",
    "    lon_1 = capitals[capitals.country == country_1]['longitude'].iloc[0]\n",
    "    lat_2 = capitals[capitals.country == country_2]['latitude'].iloc[0]\n",
    "    lon_2 = capitals[capitals.country == country_2]['longitude'].iloc[0]\n",
    "    return distance(lat_1,lon_1, lat_2,lon_2)\n",
    "\n",
    "def dis_between_countries(dataframe, lst):\n",
    "    for col1 in lst:\n",
    "        for col2 in lst:\n",
    "            if col1 == col2:\n",
    "                continue\n",
    "            else:\n",
    "                dataframe[col1][col2] = distance_2(col1, col2)\n",
    "    return dataframe\n",
    "            \n",
    "dis_between_countries(df,countries_list )\n"
   ]
  },
  {
   "cell_type": "code",
   "execution_count": 26,
   "metadata": {},
   "outputs": [
    {
     "data": {
      "text/html": [
       "<div>\n",
       "<style scoped>\n",
       "    .dataframe tbody tr th:only-of-type {\n",
       "        vertical-align: middle;\n",
       "    }\n",
       "\n",
       "    .dataframe tbody tr th {\n",
       "        vertical-align: top;\n",
       "    }\n",
       "\n",
       "    .dataframe thead th {\n",
       "        text-align: right;\n",
       "    }\n",
       "</style>\n",
       "<table border=\"1\" class=\"dataframe\">\n",
       "  <thead>\n",
       "    <tr style=\"text-align: right;\">\n",
       "      <th></th>\n",
       "      <th>Marshall Islands</th>\n",
       "      <th>French Polynesia</th>\n",
       "      <th>New Zealand</th>\n",
       "      <th>Vanuatu</th>\n",
       "      <th>Palau</th>\n",
       "      <th>Papua New Guinea</th>\n",
       "      <th>Guam</th>\n",
       "      <th>Samoa</th>\n",
       "      <th>New Caledonia</th>\n",
       "      <th>Australia</th>\n",
       "      <th>Fiji</th>\n",
       "      <th>Tonga</th>\n",
       "    </tr>\n",
       "  </thead>\n",
       "  <tbody>\n",
       "    <tr>\n",
       "      <th>Marshall Islands</th>\n",
       "      <td>NaN</td>\n",
       "      <td>3159.856137</td>\n",
       "      <td>3348.725378</td>\n",
       "      <td>1727.328621</td>\n",
       "      <td>2516.301728</td>\n",
       "      <td>2019.144119</td>\n",
       "      <td>1861.584428</td>\n",
       "      <td>1849.150692</td>\n",
       "      <td>2054.905160</td>\n",
       "      <td>3263.901948</td>\n",
       "      <td>1806.972599</td>\n",
       "      <td>2151.129410</td>\n",
       "    </tr>\n",
       "    <tr>\n",
       "      <th>French Polynesia</th>\n",
       "      <td>3159.856137</td>\n",
       "      <td>NaN</td>\n",
       "      <td>2668.807328</td>\n",
       "      <td>2765.339382</td>\n",
       "      <td>5447.018761</td>\n",
       "      <td>4265.757856</td>\n",
       "      <td>4961.131713</td>\n",
       "      <td>1496.953816</td>\n",
       "      <td>2864.497308</td>\n",
       "      <td>3920.570216</td>\n",
       "      <td>2102.135722</td>\n",
       "      <td>1686.539411</td>\n",
       "    </tr>\n",
       "    <tr>\n",
       "      <th>New Zealand</th>\n",
       "      <td>3348.725378</td>\n",
       "      <td>2668.807328</td>\n",
       "      <td>NaN</td>\n",
       "      <td>1671.641167</td>\n",
       "      <td>4218.188412</td>\n",
       "      <td>2767.607095</td>\n",
       "      <td>4239.314912</td>\n",
       "      <td>2062.548020</td>\n",
       "      <td>1400.483623</td>\n",
       "      <td>1445.147895</td>\n",
       "      <td>1613.916992</td>\n",
       "      <td>1510.219450</td>\n",
       "    </tr>\n",
       "    <tr>\n",
       "      <th>Vanuatu</th>\n",
       "      <td>1727.328621</td>\n",
       "      <td>2765.339382</td>\n",
       "      <td>1671.641167</td>\n",
       "      <td>NaN</td>\n",
       "      <td>2882.041892</td>\n",
       "      <td>1527.495923</td>\n",
       "      <td>2687.395771</td>\n",
       "      <td>1349.904435</td>\n",
       "      <td>335.602971</td>\n",
       "      <td>1687.810709</td>\n",
       "      <td>663.967196</td>\n",
       "      <td>1098.016273</td>\n",
       "    </tr>\n",
       "    <tr>\n",
       "      <th>Palau</th>\n",
       "      <td>2516.301728</td>\n",
       "      <td>5447.018761</td>\n",
       "      <td>4218.188412</td>\n",
       "      <td>2882.041892</td>\n",
       "      <td>NaN</td>\n",
       "      <td>1453.306058</td>\n",
       "      <td>800.243081</td>\n",
       "      <td>3956.305436</td>\n",
       "      <td>2974.892838</td>\n",
       "      <td>3099.023227</td>\n",
       "      <td>3468.037102</td>\n",
       "      <td>3931.843110</td>\n",
       "    </tr>\n",
       "    <tr>\n",
       "      <th>Papua New Guinea</th>\n",
       "      <td>2019.144119</td>\n",
       "      <td>4265.757856</td>\n",
       "      <td>2767.607095</td>\n",
       "      <td>1527.495923</td>\n",
       "      <td>1453.306058</td>\n",
       "      <td>NaN</td>\n",
       "      <td>1591.171595</td>\n",
       "      <td>2789.123270</td>\n",
       "      <td>1552.708901</td>\n",
       "      <td>1786.749660</td>\n",
       "      <td>2174.712829</td>\n",
       "      <td>2623.742354</td>\n",
       "    </tr>\n",
       "    <tr>\n",
       "      <th>Guam</th>\n",
       "      <td>1861.584428</td>\n",
       "      <td>4961.131713</td>\n",
       "      <td>4239.314912</td>\n",
       "      <td>2687.395771</td>\n",
       "      <td>800.243081</td>\n",
       "      <td>1591.171595</td>\n",
       "      <td>NaN</td>\n",
       "      <td>3520.883355</td>\n",
       "      <td>2871.868601</td>\n",
       "      <td>3377.103870</td>\n",
       "      <td>3165.570014</td>\n",
       "      <td>3617.512808</td>\n",
       "    </tr>\n",
       "    <tr>\n",
       "      <th>Samoa</th>\n",
       "      <td>1849.150692</td>\n",
       "      <td>1496.953816</td>\n",
       "      <td>2062.548020</td>\n",
       "      <td>1349.904435</td>\n",
       "      <td>3956.305436</td>\n",
       "      <td>2789.123270</td>\n",
       "      <td>3520.883355</td>\n",
       "      <td>NaN</td>\n",
       "      <td>1542.152644</td>\n",
       "      <td>2840.091065</td>\n",
       "      <td>716.316054</td>\n",
       "      <td>553.393188</td>\n",
       "    </tr>\n",
       "    <tr>\n",
       "      <th>New Caledonia</th>\n",
       "      <td>2054.905160</td>\n",
       "      <td>2864.497308</td>\n",
       "      <td>1400.483623</td>\n",
       "      <td>335.602971</td>\n",
       "      <td>2974.892838</td>\n",
       "      <td>1552.708901</td>\n",
       "      <td>2871.868601</td>\n",
       "      <td>1542.152644</td>\n",
       "      <td>NaN</td>\n",
       "      <td>1375.924712</td>\n",
       "      <td>825.890876</td>\n",
       "      <td>1179.069567</td>\n",
       "    </tr>\n",
       "    <tr>\n",
       "      <th>Australia</th>\n",
       "      <td>3263.901948</td>\n",
       "      <td>3920.570216</td>\n",
       "      <td>1445.147895</td>\n",
       "      <td>1687.810709</td>\n",
       "      <td>3099.023227</td>\n",
       "      <td>1786.749660</td>\n",
       "      <td>3377.103870</td>\n",
       "      <td>2840.091065</td>\n",
       "      <td>1375.924712</td>\n",
       "      <td>NaN</td>\n",
       "      <td>2145.768971</td>\n",
       "      <td>2362.766922</td>\n",
       "    </tr>\n",
       "    <tr>\n",
       "      <th>Fiji</th>\n",
       "      <td>1806.972599</td>\n",
       "      <td>2102.135722</td>\n",
       "      <td>1613.916992</td>\n",
       "      <td>663.967196</td>\n",
       "      <td>3468.037102</td>\n",
       "      <td>2174.712829</td>\n",
       "      <td>3165.570014</td>\n",
       "      <td>716.316054</td>\n",
       "      <td>825.890876</td>\n",
       "      <td>2145.768971</td>\n",
       "      <td>NaN</td>\n",
       "      <td>463.843872</td>\n",
       "    </tr>\n",
       "    <tr>\n",
       "      <th>Tonga</th>\n",
       "      <td>2151.129410</td>\n",
       "      <td>1686.539411</td>\n",
       "      <td>1510.219450</td>\n",
       "      <td>1098.016273</td>\n",
       "      <td>3931.843110</td>\n",
       "      <td>2623.742354</td>\n",
       "      <td>3617.512808</td>\n",
       "      <td>553.393188</td>\n",
       "      <td>1179.069567</td>\n",
       "      <td>2362.766922</td>\n",
       "      <td>463.843872</td>\n",
       "      <td>NaN</td>\n",
       "    </tr>\n",
       "  </tbody>\n",
       "</table>\n",
       "</div>"
      ],
      "text/plain": [
       "                  Marshall Islands  French Polynesia  New Zealand  \\\n",
       "Marshall Islands               NaN       3159.856137  3348.725378   \n",
       "French Polynesia       3159.856137               NaN  2668.807328   \n",
       "New Zealand            3348.725378       2668.807328          NaN   \n",
       "Vanuatu                1727.328621       2765.339382  1671.641167   \n",
       "Palau                  2516.301728       5447.018761  4218.188412   \n",
       "Papua New Guinea       2019.144119       4265.757856  2767.607095   \n",
       "Guam                   1861.584428       4961.131713  4239.314912   \n",
       "Samoa                  1849.150692       1496.953816  2062.548020   \n",
       "New Caledonia          2054.905160       2864.497308  1400.483623   \n",
       "Australia              3263.901948       3920.570216  1445.147895   \n",
       "Fiji                   1806.972599       2102.135722  1613.916992   \n",
       "Tonga                  2151.129410       1686.539411  1510.219450   \n",
       "\n",
       "                      Vanuatu        Palau  Papua New Guinea         Guam  \\\n",
       "Marshall Islands  1727.328621  2516.301728       2019.144119  1861.584428   \n",
       "French Polynesia  2765.339382  5447.018761       4265.757856  4961.131713   \n",
       "New Zealand       1671.641167  4218.188412       2767.607095  4239.314912   \n",
       "Vanuatu                   NaN  2882.041892       1527.495923  2687.395771   \n",
       "Palau             2882.041892          NaN       1453.306058   800.243081   \n",
       "Papua New Guinea  1527.495923  1453.306058               NaN  1591.171595   \n",
       "Guam              2687.395771   800.243081       1591.171595          NaN   \n",
       "Samoa             1349.904435  3956.305436       2789.123270  3520.883355   \n",
       "New Caledonia      335.602971  2974.892838       1552.708901  2871.868601   \n",
       "Australia         1687.810709  3099.023227       1786.749660  3377.103870   \n",
       "Fiji               663.967196  3468.037102       2174.712829  3165.570014   \n",
       "Tonga             1098.016273  3931.843110       2623.742354  3617.512808   \n",
       "\n",
       "                        Samoa  New Caledonia    Australia         Fiji  \\\n",
       "Marshall Islands  1849.150692    2054.905160  3263.901948  1806.972599   \n",
       "French Polynesia  1496.953816    2864.497308  3920.570216  2102.135722   \n",
       "New Zealand       2062.548020    1400.483623  1445.147895  1613.916992   \n",
       "Vanuatu           1349.904435     335.602971  1687.810709   663.967196   \n",
       "Palau             3956.305436    2974.892838  3099.023227  3468.037102   \n",
       "Papua New Guinea  2789.123270    1552.708901  1786.749660  2174.712829   \n",
       "Guam              3520.883355    2871.868601  3377.103870  3165.570014   \n",
       "Samoa                     NaN    1542.152644  2840.091065   716.316054   \n",
       "New Caledonia     1542.152644            NaN  1375.924712   825.890876   \n",
       "Australia         2840.091065    1375.924712          NaN  2145.768971   \n",
       "Fiji               716.316054     825.890876  2145.768971          NaN   \n",
       "Tonga              553.393188    1179.069567  2362.766922   463.843872   \n",
       "\n",
       "                        Tonga  \n",
       "Marshall Islands  2151.129410  \n",
       "French Polynesia  1686.539411  \n",
       "New Zealand       1510.219450  \n",
       "Vanuatu           1098.016273  \n",
       "Palau             3931.843110  \n",
       "Papua New Guinea  2623.742354  \n",
       "Guam              3617.512808  \n",
       "Samoa              553.393188  \n",
       "New Caledonia     1179.069567  \n",
       "Australia         2362.766922  \n",
       "Fiji               463.843872  \n",
       "Tonga                     NaN  "
      ]
     },
     "execution_count": 26,
     "metadata": {},
     "output_type": "execute_result"
    }
   ],
   "source": [
    "#Q16: What is the distance between every pair of countries in the Australian continent?\n",
    "\n",
    "Australian = countries[countries['continent'] == 'Australia']['country']\n",
    "Australian_list = []\n",
    "\n",
    "for country in Australian:\n",
    "    Australian_list.append(country)\n",
    "    \n",
    "df_Aus = pd.DataFrame(index = Australian_list, columns = Australian_list, dtype='float64')\n",
    "    \n",
    "dis_between_countries(df_Aus, Australian_list)"
   ]
  },
  {
   "cell_type": "code",
   "execution_count": 27,
   "metadata": {},
   "outputs": [
    {
     "data": {
      "text/plain": [
       "'Vanuatu'"
      ]
     },
     "execution_count": 27,
     "metadata": {},
     "output_type": "execute_result"
    }
   ],
   "source": [
    "#Q17: What is the most central country in the Australian continent?\n",
    "list(df_Aus.mean().sort_values().index)[0]"
   ]
  },
  {
   "cell_type": "code",
   "execution_count": 28,
   "metadata": {},
   "outputs": [
    {
     "data": {
      "text/plain": [
       "'French Polynesia'"
      ]
     },
     "execution_count": 28,
     "metadata": {},
     "output_type": "execute_result"
    }
   ],
   "source": [
    "#Q18: What is the least central country in Australia?\n",
    "list(df_Aus.mean().sort_values().index)[-1]"
   ]
  },
  {
   "cell_type": "code",
   "execution_count": 29,
   "metadata": {},
   "outputs": [
    {
     "data": {
      "text/html": [
       "<div>\n",
       "<style scoped>\n",
       "    .dataframe tbody tr th:only-of-type {\n",
       "        vertical-align: middle;\n",
       "    }\n",
       "\n",
       "    .dataframe tbody tr th {\n",
       "        vertical-align: top;\n",
       "    }\n",
       "\n",
       "    .dataframe thead th {\n",
       "        text-align: right;\n",
       "    }\n",
       "</style>\n",
       "<table border=\"1\" class=\"dataframe\">\n",
       "  <thead>\n",
       "    <tr style=\"text-align: right;\">\n",
       "      <th></th>\n",
       "      <th>nearest</th>\n",
       "      <th>distance</th>\n",
       "    </tr>\n",
       "  </thead>\n",
       "  <tbody>\n",
       "    <tr>\n",
       "      <th>Marshall Islands</th>\n",
       "      <td>Vanuatu</td>\n",
       "      <td>1727.328621</td>\n",
       "    </tr>\n",
       "    <tr>\n",
       "      <th>French Polynesia</th>\n",
       "      <td>Samoa</td>\n",
       "      <td>1496.953816</td>\n",
       "    </tr>\n",
       "    <tr>\n",
       "      <th>New Zealand</th>\n",
       "      <td>New Caledonia</td>\n",
       "      <td>1400.483623</td>\n",
       "    </tr>\n",
       "    <tr>\n",
       "      <th>Vanuatu</th>\n",
       "      <td>New Caledonia</td>\n",
       "      <td>335.602971</td>\n",
       "    </tr>\n",
       "    <tr>\n",
       "      <th>Palau</th>\n",
       "      <td>Guam</td>\n",
       "      <td>800.243081</td>\n",
       "    </tr>\n",
       "    <tr>\n",
       "      <th>Papua New Guinea</th>\n",
       "      <td>Palau</td>\n",
       "      <td>1453.306058</td>\n",
       "    </tr>\n",
       "    <tr>\n",
       "      <th>Guam</th>\n",
       "      <td>Palau</td>\n",
       "      <td>800.243081</td>\n",
       "    </tr>\n",
       "    <tr>\n",
       "      <th>Samoa</th>\n",
       "      <td>Tonga</td>\n",
       "      <td>553.393188</td>\n",
       "    </tr>\n",
       "    <tr>\n",
       "      <th>New Caledonia</th>\n",
       "      <td>Vanuatu</td>\n",
       "      <td>335.602971</td>\n",
       "    </tr>\n",
       "    <tr>\n",
       "      <th>Australia</th>\n",
       "      <td>New Caledonia</td>\n",
       "      <td>1375.924712</td>\n",
       "    </tr>\n",
       "    <tr>\n",
       "      <th>Fiji</th>\n",
       "      <td>Tonga</td>\n",
       "      <td>463.843872</td>\n",
       "    </tr>\n",
       "    <tr>\n",
       "      <th>Tonga</th>\n",
       "      <td>Fiji</td>\n",
       "      <td>463.843872</td>\n",
       "    </tr>\n",
       "  </tbody>\n",
       "</table>\n",
       "</div>"
      ],
      "text/plain": [
       "                        nearest     distance\n",
       "Marshall Islands        Vanuatu  1727.328621\n",
       "French Polynesia          Samoa  1496.953816\n",
       "New Zealand       New Caledonia  1400.483623\n",
       "Vanuatu           New Caledonia   335.602971\n",
       "Palau                      Guam   800.243081\n",
       "Papua New Guinea          Palau  1453.306058\n",
       "Guam                      Palau   800.243081\n",
       "Samoa                     Tonga   553.393188\n",
       "New Caledonia           Vanuatu   335.602971\n",
       "Australia         New Caledonia  1375.924712\n",
       "Fiji                      Tonga   463.843872\n",
       "Tonga                      Fiji   463.843872"
      ]
     },
     "execution_count": 29,
     "metadata": {},
     "output_type": "execute_result"
    }
   ],
   "source": [
    "#Q19: How close is each country in Australia to it's nearest neighbor?\n",
    "nearest_countries = pd.DataFrame(index = Australian_list, columns = ['nearest', 'distance']).astype(float)\n",
    "nearest_countries.nearest = df_Aus.idxmin().values\n",
    "nearest_countries.distance = df_Aus.min().values\n",
    "\n",
    "    \n",
    "nearest_countries"
   ]
  },
  {
   "cell_type": "code",
   "execution_count": 30,
   "metadata": {},
   "outputs": [
    {
     "data": {
      "text/html": [
       "<div>\n",
       "<style scoped>\n",
       "    .dataframe tbody tr th:only-of-type {\n",
       "        vertical-align: middle;\n",
       "    }\n",
       "\n",
       "    .dataframe tbody tr th {\n",
       "        vertical-align: top;\n",
       "    }\n",
       "\n",
       "    .dataframe thead th {\n",
       "        text-align: right;\n",
       "    }\n",
       "</style>\n",
       "<table border=\"1\" class=\"dataframe\">\n",
       "  <thead>\n",
       "    <tr style=\"text-align: right;\">\n",
       "      <th></th>\n",
       "      <th>furthest</th>\n",
       "      <th>distance</th>\n",
       "    </tr>\n",
       "  </thead>\n",
       "  <tbody>\n",
       "    <tr>\n",
       "      <th>Marshall Islands</th>\n",
       "      <td>New Zealand</td>\n",
       "      <td>3348.725378</td>\n",
       "    </tr>\n",
       "    <tr>\n",
       "      <th>French Polynesia</th>\n",
       "      <td>Palau</td>\n",
       "      <td>5447.018761</td>\n",
       "    </tr>\n",
       "    <tr>\n",
       "      <th>New Zealand</th>\n",
       "      <td>Guam</td>\n",
       "      <td>4239.314912</td>\n",
       "    </tr>\n",
       "    <tr>\n",
       "      <th>Vanuatu</th>\n",
       "      <td>Palau</td>\n",
       "      <td>2882.041892</td>\n",
       "    </tr>\n",
       "    <tr>\n",
       "      <th>Palau</th>\n",
       "      <td>French Polynesia</td>\n",
       "      <td>5447.018761</td>\n",
       "    </tr>\n",
       "    <tr>\n",
       "      <th>Papua New Guinea</th>\n",
       "      <td>French Polynesia</td>\n",
       "      <td>4265.757856</td>\n",
       "    </tr>\n",
       "    <tr>\n",
       "      <th>Guam</th>\n",
       "      <td>French Polynesia</td>\n",
       "      <td>4961.131713</td>\n",
       "    </tr>\n",
       "    <tr>\n",
       "      <th>Samoa</th>\n",
       "      <td>Palau</td>\n",
       "      <td>3956.305436</td>\n",
       "    </tr>\n",
       "    <tr>\n",
       "      <th>New Caledonia</th>\n",
       "      <td>Palau</td>\n",
       "      <td>2974.892838</td>\n",
       "    </tr>\n",
       "    <tr>\n",
       "      <th>Australia</th>\n",
       "      <td>French Polynesia</td>\n",
       "      <td>3920.570216</td>\n",
       "    </tr>\n",
       "    <tr>\n",
       "      <th>Fiji</th>\n",
       "      <td>Palau</td>\n",
       "      <td>3468.037102</td>\n",
       "    </tr>\n",
       "    <tr>\n",
       "      <th>Tonga</th>\n",
       "      <td>Palau</td>\n",
       "      <td>3931.843110</td>\n",
       "    </tr>\n",
       "  </tbody>\n",
       "</table>\n",
       "</div>"
      ],
      "text/plain": [
       "                          furthest     distance\n",
       "Marshall Islands       New Zealand  3348.725378\n",
       "French Polynesia             Palau  5447.018761\n",
       "New Zealand                   Guam  4239.314912\n",
       "Vanuatu                      Palau  2882.041892\n",
       "Palau             French Polynesia  5447.018761\n",
       "Papua New Guinea  French Polynesia  4265.757856\n",
       "Guam              French Polynesia  4961.131713\n",
       "Samoa                        Palau  3956.305436\n",
       "New Caledonia                Palau  2974.892838\n",
       "Australia         French Polynesia  3920.570216\n",
       "Fiji                         Palau  3468.037102\n",
       "Tonga                        Palau  3931.843110"
      ]
     },
     "execution_count": 30,
     "metadata": {},
     "output_type": "execute_result"
    }
   ],
   "source": [
    "#Q20: How far is each country in Australia to it's furthest neighbor?\n",
    "fur_countries = pd.DataFrame(index = Australian_list, columns = ['furthest', 'distance']).astype(float)\n",
    "fur_countries.furthest = df_Aus.idxmax().values\n",
    "fur_countries.distance = df_Aus.max().values\n",
    "\n",
    "fur_countries"
   ]
  },
  {
   "cell_type": "code",
   "execution_count": 31,
   "metadata": {},
   "outputs": [],
   "source": [
    "import sqlite3\n",
    "conn = sqlite3.connect('countries.db')\n",
    "countries.to_sql(\"countries\", conn, if_exists=\"replace\", index=False)\n",
    "capitals.to_sql(\"capitals\", conn, if_exists=\"replace\", index=False)"
   ]
  },
  {
   "cell_type": "code",
   "execution_count": 32,
   "metadata": {},
   "outputs": [
    {
     "data": {
      "text/html": [
       "<div>\n",
       "<style scoped>\n",
       "    .dataframe tbody tr th:only-of-type {\n",
       "        vertical-align: middle;\n",
       "    }\n",
       "\n",
       "    .dataframe tbody tr th {\n",
       "        vertical-align: top;\n",
       "    }\n",
       "\n",
       "    .dataframe thead th {\n",
       "        text-align: right;\n",
       "    }\n",
       "</style>\n",
       "<table border=\"1\" class=\"dataframe\">\n",
       "  <thead>\n",
       "    <tr style=\"text-align: right;\">\n",
       "      <th></th>\n",
       "      <th>continent</th>\n",
       "      <th>number of countries</th>\n",
       "    </tr>\n",
       "  </thead>\n",
       "  <tbody>\n",
       "    <tr>\n",
       "      <th>0</th>\n",
       "      <td>Australia</td>\n",
       "      <td>12</td>\n",
       "    </tr>\n",
       "    <tr>\n",
       "      <th>1</th>\n",
       "      <td>South America</td>\n",
       "      <td>12</td>\n",
       "    </tr>\n",
       "    <tr>\n",
       "      <th>2</th>\n",
       "      <td>North America</td>\n",
       "      <td>24</td>\n",
       "    </tr>\n",
       "    <tr>\n",
       "      <th>3</th>\n",
       "      <td>Asia</td>\n",
       "      <td>38</td>\n",
       "    </tr>\n",
       "    <tr>\n",
       "      <th>4</th>\n",
       "      <td>Europe</td>\n",
       "      <td>41</td>\n",
       "    </tr>\n",
       "    <tr>\n",
       "      <th>5</th>\n",
       "      <td>Africa</td>\n",
       "      <td>47</td>\n",
       "    </tr>\n",
       "  </tbody>\n",
       "</table>\n",
       "</div>"
      ],
      "text/plain": [
       "       continent  number of countries\n",
       "0      Australia                   12\n",
       "1  South America                   12\n",
       "2  North America                   24\n",
       "3           Asia                   38\n",
       "4         Europe                   41\n",
       "5         Africa                   47"
      ]
     },
     "execution_count": 32,
     "metadata": {},
     "output_type": "execute_result"
    }
   ],
   "source": [
    "#Q21: In our dataset, how many countries are in each continent?\n",
    "num_countries = pd.read_sql(\"select continent, count() as [number of countries] from countries group by continent order by [number of countries] asc\", conn)\n",
    "num_countries"
   ]
  },
  {
   "cell_type": "code",
   "execution_count": 33,
   "metadata": {},
   "outputs": [
    {
     "data": {
      "text/plain": [
       "Text(0, 0.5, 'number of countries')"
      ]
     },
     "execution_count": 33,
     "metadata": {},
     "output_type": "execute_result"
    },
    {
     "data": {
      "image/png": "[encoded data removed]",
      "text/plain": [
       "<Figure size 432x288 with 1 Axes>"
      ]
     },
     "metadata": {
      "needs_background": "light"
     },
     "output_type": "display_data"
    }
   ],
   "source": [
    "#Q22: How many countries are in each continent? (answer with a plot)\n",
    "num_countries.plot.bar(x = 'continent', y = 'number of countries', legend = None, color = 'black').set_ylabel('number of countries')"
   ]
  },
  {
   "cell_type": "code",
   "execution_count": 34,
   "metadata": {},
   "outputs": [
    {
     "data": {
      "text/html": [
       "<div>\n",
       "<style scoped>\n",
       "    .dataframe tbody tr th:only-of-type {\n",
       "        vertical-align: middle;\n",
       "    }\n",
       "\n",
       "    .dataframe tbody tr th {\n",
       "        vertical-align: top;\n",
       "    }\n",
       "\n",
       "    .dataframe thead th {\n",
       "        text-align: right;\n",
       "    }\n",
       "</style>\n",
       "<table border=\"1\" class=\"dataframe\">\n",
       "  <thead>\n",
       "    <tr style=\"text-align: right;\">\n",
       "      <th></th>\n",
       "      <th>continent</th>\n",
       "      <th>total population (million)</th>\n",
       "    </tr>\n",
       "  </thead>\n",
       "  <tbody>\n",
       "    <tr>\n",
       "      <th>0</th>\n",
       "      <td>Asia</td>\n",
       "      <td>3739.902863</td>\n",
       "    </tr>\n",
       "    <tr>\n",
       "      <th>1</th>\n",
       "      <td>Africa</td>\n",
       "      <td>807.299195</td>\n",
       "    </tr>\n",
       "    <tr>\n",
       "      <th>2</th>\n",
       "      <td>Europe</td>\n",
       "      <td>792.053486</td>\n",
       "    </tr>\n",
       "    <tr>\n",
       "      <th>3</th>\n",
       "      <td>North America</td>\n",
       "      <td>515.041558</td>\n",
       "    </tr>\n",
       "    <tr>\n",
       "      <th>4</th>\n",
       "      <td>South America</td>\n",
       "      <td>375.441666</td>\n",
       "    </tr>\n",
       "    <tr>\n",
       "      <th>5</th>\n",
       "      <td>Australia</td>\n",
       "      <td>32.163025</td>\n",
       "    </tr>\n",
       "  </tbody>\n",
       "</table>\n",
       "</div>"
      ],
      "text/plain": [
       "       continent  total population (million)\n",
       "0           Asia                 3739.902863\n",
       "1         Africa                  807.299195\n",
       "2         Europe                  792.053486\n",
       "3  North America                  515.041558\n",
       "4  South America                  375.441666\n",
       "5      Australia                   32.163025"
      ]
     },
     "execution_count": 34,
     "metadata": {},
     "output_type": "execute_result"
    }
   ],
   "source": [
    "#Q23: What is the total population of each continent?\n",
    "total_population = pd.read_sql(\"select continent, sum(population)/1000000.0 as [total population (million)] from countries group by continent order by [total population (million)] desc\", conn)\n",
    "total_population"
   ]
  },
  {
   "cell_type": "code",
   "execution_count": 35,
   "metadata": {},
   "outputs": [
    {
     "data": {
      "text/plain": [
       "Text(0, 0.5, 'total population (million)')"
      ]
     },
     "execution_count": 35,
     "metadata": {},
     "output_type": "execute_result"
    },
    {
     "data": {
      "image/png": "[encoded data removed]",
      "text/plain": [
       "<Figure size 432x288 with 1 Axes>"
      ]
     },
     "metadata": {
      "needs_background": "light"
     },
     "output_type": "display_data"
    }
   ],
   "source": [
    "#Q24: What is the total population of each continent? (answer with a plot)\n",
    "total_population.plot.bar(color = 'black', x = 'continent', y = 'total population (million)', legend = None).set_ylabel('total population (million)')"
   ]
  },
  {
   "cell_type": "code",
   "execution_count": 36,
   "metadata": {},
   "outputs": [
    {
     "data": {
      "text/html": [
       "<div>\n",
       "<style scoped>\n",
       "    .dataframe tbody tr th:only-of-type {\n",
       "        vertical-align: middle;\n",
       "    }\n",
       "\n",
       "    .dataframe tbody tr th {\n",
       "        vertical-align: top;\n",
       "    }\n",
       "\n",
       "    .dataframe thead th {\n",
       "        text-align: right;\n",
       "    }\n",
       "</style>\n",
       "<table border=\"1\" class=\"dataframe\">\n",
       "  <thead>\n",
       "    <tr style=\"text-align: right;\">\n",
       "      <th></th>\n",
       "      <th>country</th>\n",
       "      <th>population</th>\n",
       "    </tr>\n",
       "  </thead>\n",
       "  <tbody>\n",
       "    <tr>\n",
       "      <th>0</th>\n",
       "      <td>Brazil</td>\n",
       "      <td>188078227</td>\n",
       "    </tr>\n",
       "    <tr>\n",
       "      <th>1</th>\n",
       "      <td>Colombia</td>\n",
       "      <td>43593035</td>\n",
       "    </tr>\n",
       "    <tr>\n",
       "      <th>2</th>\n",
       "      <td>Argentina</td>\n",
       "      <td>39921833</td>\n",
       "    </tr>\n",
       "    <tr>\n",
       "      <th>3</th>\n",
       "      <td>Peru</td>\n",
       "      <td>28302603</td>\n",
       "    </tr>\n",
       "    <tr>\n",
       "      <th>4</th>\n",
       "      <td>Venezuela</td>\n",
       "      <td>25730435</td>\n",
       "    </tr>\n",
       "    <tr>\n",
       "      <th>5</th>\n",
       "      <td>Chile</td>\n",
       "      <td>16134219</td>\n",
       "    </tr>\n",
       "    <tr>\n",
       "      <th>6</th>\n",
       "      <td>Ecuador</td>\n",
       "      <td>13547510</td>\n",
       "    </tr>\n",
       "    <tr>\n",
       "      <th>7</th>\n",
       "      <td>Bolivia</td>\n",
       "      <td>8989046</td>\n",
       "    </tr>\n",
       "    <tr>\n",
       "      <th>8</th>\n",
       "      <td>Paraguay</td>\n",
       "      <td>6506464</td>\n",
       "    </tr>\n",
       "    <tr>\n",
       "      <th>9</th>\n",
       "      <td>Uruguay</td>\n",
       "      <td>3431932</td>\n",
       "    </tr>\n",
       "    <tr>\n",
       "      <th>10</th>\n",
       "      <td>Guyana</td>\n",
       "      <td>767245</td>\n",
       "    </tr>\n",
       "    <tr>\n",
       "      <th>11</th>\n",
       "      <td>Suriname</td>\n",
       "      <td>439117</td>\n",
       "    </tr>\n",
       "  </tbody>\n",
       "</table>\n",
       "</div>"
      ],
      "text/plain": [
       "      country  population\n",
       "0      Brazil   188078227\n",
       "1    Colombia    43593035\n",
       "2   Argentina    39921833\n",
       "3        Peru    28302603\n",
       "4   Venezuela    25730435\n",
       "5       Chile    16134219\n",
       "6     Ecuador    13547510\n",
       "7     Bolivia     8989046\n",
       "8    Paraguay     6506464\n",
       "9     Uruguay     3431932\n",
       "10     Guyana      767245\n",
       "11   Suriname      439117"
      ]
     },
     "execution_count": 36,
     "metadata": {},
     "output_type": "execute_result"
    }
   ],
   "source": [
    "#Q25: What is the population of each country in South America?\n",
    "pd.read_sql(\"select country, population from countries where continent = 'South America' group by country order by population desc\", conn)"
   ]
  },
  {
   "cell_type": "code",
   "execution_count": 37,
   "metadata": {},
   "outputs": [
    {
     "data": {
      "text/html": [
       "<div>\n",
       "<style scoped>\n",
       "    .dataframe tbody tr th:only-of-type {\n",
       "        vertical-align: middle;\n",
       "    }\n",
       "\n",
       "    .dataframe tbody tr th {\n",
       "        vertical-align: top;\n",
       "    }\n",
       "\n",
       "    .dataframe thead th {\n",
       "        text-align: right;\n",
       "    }\n",
       "</style>\n",
       "<table border=\"1\" class=\"dataframe\">\n",
       "  <thead>\n",
       "    <tr style=\"text-align: right;\">\n",
       "      <th></th>\n",
       "      <th>country</th>\n",
       "      <th>real GDP (billion)</th>\n",
       "    </tr>\n",
       "  </thead>\n",
       "  <tbody>\n",
       "    <tr>\n",
       "      <th>0</th>\n",
       "      <td>United States</td>\n",
       "      <td>11281.191327</td>\n",
       "    </tr>\n",
       "    <tr>\n",
       "      <th>1</th>\n",
       "      <td>China</td>\n",
       "      <td>6569.868565</td>\n",
       "    </tr>\n",
       "    <tr>\n",
       "      <th>2</th>\n",
       "      <td>Japan</td>\n",
       "      <td>3594.473830</td>\n",
       "    </tr>\n",
       "    <tr>\n",
       "      <th>3</th>\n",
       "      <td>India</td>\n",
       "      <td>3176.520785</td>\n",
       "    </tr>\n",
       "    <tr>\n",
       "      <th>4</th>\n",
       "      <td>Germany</td>\n",
       "      <td>2274.855452</td>\n",
       "    </tr>\n",
       "    <tr>\n",
       "      <th>5</th>\n",
       "      <td>France</td>\n",
       "      <td>1680.181354</td>\n",
       "    </tr>\n",
       "    <tr>\n",
       "      <th>6</th>\n",
       "      <td>United Kingdom</td>\n",
       "      <td>1678.873538</td>\n",
       "    </tr>\n",
       "    <tr>\n",
       "      <th>7</th>\n",
       "      <td>Italy</td>\n",
       "      <td>1552.164690</td>\n",
       "    </tr>\n",
       "    <tr>\n",
       "      <th>8</th>\n",
       "      <td>Brazil</td>\n",
       "      <td>1429.394525</td>\n",
       "    </tr>\n",
       "    <tr>\n",
       "      <th>9</th>\n",
       "      <td>Russia</td>\n",
       "      <td>1271.752506</td>\n",
       "    </tr>\n",
       "  </tbody>\n",
       "</table>\n",
       "</div>"
      ],
      "text/plain": [
       "          country  real GDP (billion)\n",
       "0   United States        11281.191327\n",
       "1           China         6569.868565\n",
       "2           Japan         3594.473830\n",
       "3           India         3176.520785\n",
       "4         Germany         2274.855452\n",
       "5          France         1680.181354\n",
       "6  United Kingdom         1678.873538\n",
       "7           Italy         1552.164690\n",
       "8          Brazil         1429.394525\n",
       "9          Russia         1271.752506"
      ]
     },
     "execution_count": 37,
     "metadata": {},
     "output_type": "execute_result"
    }
   ],
   "source": [
    "#Q26: What are the top 10 countries that have the largest real GDP?\n",
    "top_ten = pd.read_sql(\"select country, (population*[gdp-per-capita])/1000000000.0 as [real GDP (billion)] from countries group by country order by [real GDP (billion)] desc limit 10\", conn)\n",
    "top_ten"
   ]
  },
  {
   "cell_type": "code",
   "execution_count": 38,
   "metadata": {},
   "outputs": [
    {
     "data": {
      "text/plain": [
       "Text(0, 0.5, 'GDP (billion)')"
      ]
     },
     "execution_count": 38,
     "metadata": {},
     "output_type": "execute_result"
    },
    {
     "data": {
      "image/png": "[encoded data removed]",
      "text/plain": [
       "<Figure size 432x288 with 1 Axes>"
      ]
     },
     "metadata": {
      "needs_background": "light"
     },
     "output_type": "display_data"
    }
   ],
   "source": [
    "#Q27: What are the top 10 countries that have the largest real GDP? (answer with a plot)\n",
    "all_entries = pd.read_sql(\"select country, (population*[gdp-per-capita])/1000000000.0 as [real GDP (billion)] from countries group by country order by [real GDP (billion)] desc\", conn)\n",
    "sum_val = all_entries[10:]['real GDP (billion)'].sum()\n",
    "all_entries = all_entries[:10]\n",
    "all_entry_dict = all_entries.to_dict()\n",
    "all_entry_dict['country'][10] = 'other'\n",
    "all_entry_dict['real GDP (billion)'][10] = sum_val\n",
    "pd.DataFrame(all_entry_dict).plot.bar(color = 'black', x = 'country', y = 'real GDP (billion)', yticks = [0, 5000, 10000, 15000], legend = None).set_ylabel('GDP (billion)')"
   ]
  },
  {
   "cell_type": "code",
   "execution_count": 39,
   "metadata": {},
   "outputs": [
    {
     "data": {
      "text/html": [
       "<div>\n",
       "<style scoped>\n",
       "    .dataframe tbody tr th:only-of-type {\n",
       "        vertical-align: middle;\n",
       "    }\n",
       "\n",
       "    .dataframe tbody tr th {\n",
       "        vertical-align: top;\n",
       "    }\n",
       "\n",
       "    .dataframe thead th {\n",
       "        text-align: right;\n",
       "    }\n",
       "</style>\n",
       "<table border=\"1\" class=\"dataframe\">\n",
       "  <thead>\n",
       "    <tr style=\"text-align: right;\">\n",
       "      <th></th>\n",
       "      <th>country</th>\n",
       "      <th>birth-rate</th>\n",
       "      <th>death-rate</th>\n",
       "    </tr>\n",
       "  </thead>\n",
       "  <tbody>\n",
       "    <tr>\n",
       "      <th>0</th>\n",
       "      <td>Uganda</td>\n",
       "      <td>47.35</td>\n",
       "      <td>12.24</td>\n",
       "    </tr>\n",
       "    <tr>\n",
       "      <th>1</th>\n",
       "      <td>Yemen</td>\n",
       "      <td>42.89</td>\n",
       "      <td>8.30</td>\n",
       "    </tr>\n",
       "    <tr>\n",
       "      <th>2</th>\n",
       "      <td>Mali</td>\n",
       "      <td>49.82</td>\n",
       "      <td>16.89</td>\n",
       "    </tr>\n",
       "    <tr>\n",
       "      <th>3</th>\n",
       "      <td>Oman</td>\n",
       "      <td>36.24</td>\n",
       "      <td>3.81</td>\n",
       "    </tr>\n",
       "    <tr>\n",
       "      <th>4</th>\n",
       "      <td>Madagascar</td>\n",
       "      <td>41.41</td>\n",
       "      <td>11.11</td>\n",
       "    </tr>\n",
       "    <tr>\n",
       "      <th>5</th>\n",
       "      <td>Burkina Faso</td>\n",
       "      <td>45.62</td>\n",
       "      <td>15.60</td>\n",
       "    </tr>\n",
       "    <tr>\n",
       "      <th>6</th>\n",
       "      <td>Niger</td>\n",
       "      <td>50.73</td>\n",
       "      <td>20.91</td>\n",
       "    </tr>\n",
       "    <tr>\n",
       "      <th>7</th>\n",
       "      <td>Chad</td>\n",
       "      <td>45.73</td>\n",
       "      <td>16.38</td>\n",
       "    </tr>\n",
       "    <tr>\n",
       "      <th>8</th>\n",
       "      <td>Mauritania</td>\n",
       "      <td>40.99</td>\n",
       "      <td>12.16</td>\n",
       "    </tr>\n",
       "    <tr>\n",
       "      <th>9</th>\n",
       "      <td>Burundi</td>\n",
       "      <td>42.22</td>\n",
       "      <td>13.46</td>\n",
       "    </tr>\n",
       "    <tr>\n",
       "      <th>10</th>\n",
       "      <td>Comoros</td>\n",
       "      <td>36.93</td>\n",
       "      <td>8.20</td>\n",
       "    </tr>\n",
       "    <tr>\n",
       "      <th>11</th>\n",
       "      <td>Somalia</td>\n",
       "      <td>45.13</td>\n",
       "      <td>16.63</td>\n",
       "    </tr>\n",
       "    <tr>\n",
       "      <th>12</th>\n",
       "      <td>Marshall Islands</td>\n",
       "      <td>33.05</td>\n",
       "      <td>4.78</td>\n",
       "    </tr>\n",
       "    <tr>\n",
       "      <th>13</th>\n",
       "      <td>Maldives</td>\n",
       "      <td>34.81</td>\n",
       "      <td>7.06</td>\n",
       "    </tr>\n",
       "    <tr>\n",
       "      <th>14</th>\n",
       "      <td>Togo</td>\n",
       "      <td>37.01</td>\n",
       "      <td>9.83</td>\n",
       "    </tr>\n",
       "  </tbody>\n",
       "</table>\n",
       "</div>"
      ],
      "text/plain": [
       "             country  birth-rate  death-rate\n",
       "0             Uganda       47.35       12.24\n",
       "1              Yemen       42.89        8.30\n",
       "2               Mali       49.82       16.89\n",
       "3               Oman       36.24        3.81\n",
       "4         Madagascar       41.41       11.11\n",
       "5       Burkina Faso       45.62       15.60\n",
       "6              Niger       50.73       20.91\n",
       "7               Chad       45.73       16.38\n",
       "8         Mauritania       40.99       12.16\n",
       "9            Burundi       42.22       13.46\n",
       "10           Comoros       36.93        8.20\n",
       "11           Somalia       45.13       16.63\n",
       "12  Marshall Islands       33.05        4.78\n",
       "13          Maldives       34.81        7.06\n",
       "14              Togo       37.01        9.83"
      ]
     },
     "execution_count": 39,
     "metadata": {},
     "output_type": "execute_result"
    }
   ],
   "source": [
    "#Q28: What are the top 15 countries that have the largest gap between birth rate and death rate?\n",
    "top_fifteen = pd.read_sql(\"select country, [birth-rate], [death-rate] from countries group by country order by [birth-rate] - [death-rate] desc limit 15\", conn)\n",
    "top_fifteen"
   ]
  },
  {
   "cell_type": "code",
   "execution_count": 40,
   "metadata": {},
   "outputs": [
    {
     "data": {
      "text/plain": [
       "Text(0.5, 0, 'rate')"
      ]
     },
     "execution_count": 40,
     "metadata": {},
     "output_type": "execute_result"
    },
    {
     "data": {
      "image/png": "[encoded data removed]",
      "text/plain": [
       "<Figure size 432x288 with 1 Axes>"
      ]
     },
     "metadata": {
      "needs_background": "light"
     },
     "output_type": "display_data"
    }
   ],
   "source": [
    "#Q29: What are the top 15 countries that have the largest gap between birth rate and death rate? (answer with a plot)\n",
    "top_fif = pd.read_sql(\"select country, [death-rate],[birth-rate] from countries group by country order by [birth-rate] - [death-rate] desc limit 15\", conn)\n",
    "gaps = top_fif.set_index('country')\n",
    "t = gaps.plot.barh(xlim = (0,100)).set_xlabel('rate')\n",
    "t"
   ]
  },
  {
   "cell_type": "code",
   "execution_count": 41,
   "metadata": {},
   "outputs": [
    {
     "data": {
      "text/plain": [
       "<matplotlib.axes._subplots.AxesSubplot at 0x240cf301400>"
      ]
     },
     "execution_count": 41,
     "metadata": {},
     "output_type": "execute_result"
    },
    {
     "data": {
      "image/png": "[encoded data removed]",
      "text/plain": [
       "<Figure size 432x288 with 1 Axes>"
      ]
     },
     "metadata": {
      "needs_background": "light"
     },
     "output_type": "display_data"
    }
   ],
   "source": [
    "#Q30: What is the relationship between death rates and birth rates? (answer with a plot)\n",
    "countries.plot.scatter(x = 'death-rate', y = 'birth-rate', xticks = [5, 10, 15, 20, 25, 30], yticks = [10, 20, 30, 40, 50], color = 'black')"
   ]
  },
  {
   "cell_type": "code",
   "execution_count": 42,
   "metadata": {},
   "outputs": [
    {
     "data": {
      "text/html": [
       "<div>\n",
       "<style scoped>\n",
       "    .dataframe tbody tr th:only-of-type {\n",
       "        vertical-align: middle;\n",
       "    }\n",
       "\n",
       "    .dataframe tbody tr th {\n",
       "        vertical-align: top;\n",
       "    }\n",
       "\n",
       "    .dataframe thead th {\n",
       "        text-align: right;\n",
       "    }\n",
       "</style>\n",
       "<table border=\"1\" class=\"dataframe\">\n",
       "  <thead>\n",
       "    <tr style=\"text-align: right;\">\n",
       "      <th></th>\n",
       "      <th>country</th>\n",
       "      <th>death-rate</th>\n",
       "      <th>birth-rate</th>\n",
       "    </tr>\n",
       "  </thead>\n",
       "  <tbody>\n",
       "    <tr>\n",
       "      <th>0</th>\n",
       "      <td>Namibia</td>\n",
       "      <td>18.86</td>\n",
       "      <td>24.32</td>\n",
       "    </tr>\n",
       "    <tr>\n",
       "      <th>1</th>\n",
       "      <td>Zimbabwe</td>\n",
       "      <td>21.84</td>\n",
       "      <td>28.01</td>\n",
       "    </tr>\n",
       "    <tr>\n",
       "      <th>2</th>\n",
       "      <td>South Africa</td>\n",
       "      <td>22.00</td>\n",
       "      <td>18.20</td>\n",
       "    </tr>\n",
       "    <tr>\n",
       "      <th>3</th>\n",
       "      <td>Lesotho</td>\n",
       "      <td>28.71</td>\n",
       "      <td>24.75</td>\n",
       "    </tr>\n",
       "    <tr>\n",
       "      <th>4</th>\n",
       "      <td>Botswana</td>\n",
       "      <td>29.50</td>\n",
       "      <td>23.08</td>\n",
       "    </tr>\n",
       "    <tr>\n",
       "      <th>5</th>\n",
       "      <td>Swaziland</td>\n",
       "      <td>29.74</td>\n",
       "      <td>27.41</td>\n",
       "    </tr>\n",
       "  </tbody>\n",
       "</table>\n",
       "</div>"
      ],
      "text/plain": [
       "        country  death-rate  birth-rate\n",
       "0       Namibia       18.86       24.32\n",
       "1      Zimbabwe       21.84       28.01\n",
       "2  South Africa       22.00       18.20\n",
       "3       Lesotho       28.71       24.75\n",
       "4      Botswana       29.50       23.08\n",
       "5     Swaziland       29.74       27.41"
      ]
     },
     "execution_count": 42,
     "metadata": {},
     "output_type": "execute_result"
    }
   ],
   "source": [
    "#Q31: Did you notice the six outliers? Which countries are they?\n",
    "pd.read_sql(\"select country, [death-rate], [birth-rate] from countries where [death-rate] > 18 and [birth-rate] < 30 group by country order by [death-rate] asc limit 6\", conn)"
   ]
  },
  {
   "cell_type": "code",
   "execution_count": 43,
   "metadata": {},
   "outputs": [
    {
     "data": {
      "text/plain": [
       "0.3965086117752512"
      ]
     },
     "execution_count": 43,
     "metadata": {},
     "output_type": "execute_result"
    }
   ],
   "source": [
    "#Q32: What is the correlation between death rates and birth rates?\n",
    "P = countries.corr()\n",
    "P['death-rate']['birth-rate']"
   ]
  },
  {
   "cell_type": "code",
   "execution_count": 44,
   "metadata": {},
   "outputs": [
    {
     "data": {
      "text/html": [
       "<div>\n",
       "<style scoped>\n",
       "    .dataframe tbody tr th:only-of-type {\n",
       "        vertical-align: middle;\n",
       "    }\n",
       "\n",
       "    .dataframe tbody tr th {\n",
       "        vertical-align: top;\n",
       "    }\n",
       "\n",
       "    .dataframe thead th {\n",
       "        text-align: right;\n",
       "    }\n",
       "</style>\n",
       "<table border=\"1\" class=\"dataframe\">\n",
       "  <thead>\n",
       "    <tr style=\"text-align: right;\">\n",
       "      <th></th>\n",
       "      <th>country</th>\n",
       "      <th>phones</th>\n",
       "    </tr>\n",
       "  </thead>\n",
       "  <tbody>\n",
       "    <tr>\n",
       "      <th>0</th>\n",
       "      <td>Afghanistan</td>\n",
       "      <td>3.2</td>\n",
       "    </tr>\n",
       "    <tr>\n",
       "      <th>1</th>\n",
       "      <td>Albania</td>\n",
       "      <td>71.2</td>\n",
       "    </tr>\n",
       "    <tr>\n",
       "      <th>2</th>\n",
       "      <td>Algeria</td>\n",
       "      <td>78.1</td>\n",
       "    </tr>\n",
       "    <tr>\n",
       "      <th>3</th>\n",
       "      <td>Anguilla</td>\n",
       "      <td>460.0</td>\n",
       "    </tr>\n",
       "    <tr>\n",
       "      <th>4</th>\n",
       "      <td>Argentina</td>\n",
       "      <td>220.4</td>\n",
       "    </tr>\n",
       "    <tr>\n",
       "      <th>...</th>\n",
       "      <td>...</td>\n",
       "      <td>...</td>\n",
       "    </tr>\n",
       "    <tr>\n",
       "      <th>169</th>\n",
       "      <td>Venezuela</td>\n",
       "      <td>140.1</td>\n",
       "    </tr>\n",
       "    <tr>\n",
       "      <th>170</th>\n",
       "      <td>Vietnam</td>\n",
       "      <td>187.7</td>\n",
       "    </tr>\n",
       "    <tr>\n",
       "      <th>171</th>\n",
       "      <td>Yemen</td>\n",
       "      <td>37.2</td>\n",
       "    </tr>\n",
       "    <tr>\n",
       "      <th>172</th>\n",
       "      <td>Zambia</td>\n",
       "      <td>8.2</td>\n",
       "    </tr>\n",
       "    <tr>\n",
       "      <th>173</th>\n",
       "      <td>Zimbabwe</td>\n",
       "      <td>26.8</td>\n",
       "    </tr>\n",
       "  </tbody>\n",
       "</table>\n",
       "<p>174 rows × 2 columns</p>\n",
       "</div>"
      ],
      "text/plain": [
       "         country  phones\n",
       "0    Afghanistan     3.2\n",
       "1        Albania    71.2\n",
       "2        Algeria    78.1\n",
       "3       Anguilla   460.0\n",
       "4      Argentina   220.4\n",
       "..           ...     ...\n",
       "169    Venezuela   140.1\n",
       "170      Vietnam   187.7\n",
       "171        Yemen    37.2\n",
       "172       Zambia     8.2\n",
       "173     Zimbabwe    26.8\n",
       "\n",
       "[174 rows x 2 columns]"
      ]
     },
     "execution_count": 44,
     "metadata": {},
     "output_type": "execute_result"
    }
   ],
   "source": [
    "pd.read_sql(\"\"\"\n",
    "select country, [phones] from countries\n",
    "GROUP by country\"\"\", conn)"
   ]
  },
  {
   "cell_type": "code",
   "execution_count": 45,
   "metadata": {},
   "outputs": [
    {
     "data": {
      "text/plain": [
       "<matplotlib.axes._subplots.AxesSubplot at 0x240cf2d56d0>"
      ]
     },
     "execution_count": 45,
     "metadata": {},
     "output_type": "execute_result"
    },
    {
     "data": {
      "image/png": "[encoded data removed]",
      "text/plain": [
       "<Figure size 432x288 with 1 Axes>"
      ]
     },
     "metadata": {
      "needs_background": "light"
     },
     "output_type": "display_data"
    }
   ],
   "source": [
    "#Q33: What is the relationship between GDP per capita and the number of phones per capita?\n",
    "#--------------------------------------------\n",
    "countries.plot.scatter(x = 'gdp-per-capita', y = 'phones', color = 'black', yticks = [0, 200, 400, 600, 800, 1000])"
   ]
  },
  {
   "cell_type": "code",
   "execution_count": 46,
   "metadata": {},
   "outputs": [
    {
     "data": {
      "text/plain": [
       "0.8786946640591311"
      ]
     },
     "execution_count": 46,
     "metadata": {},
     "output_type": "execute_result"
    }
   ],
   "source": [
    "#Q34: Question 34: What is the correlation between GDP per capita and number of phones per capita?\n",
    "Q = countries.corr()\n",
    "Q['gdp-per-capita']['phones']"
   ]
  },
  {
   "cell_type": "code",
   "execution_count": 47,
   "metadata": {},
   "outputs": [
    {
     "data": {
      "text/plain": [
       "<matplotlib.axes._subplots.AxesSubplot at 0x240cf4e51c0>"
      ]
     },
     "execution_count": 47,
     "metadata": {},
     "output_type": "execute_result"
    },
    {
     "data": {
      "image/png": "[encoded data removed]",
      "text/plain": [
       "<Figure size 432x288 with 1 Axes>"
      ]
     },
     "metadata": {
      "needs_background": "light"
     },
     "output_type": "display_data"
    }
   ],
   "source": [
    "#Q35: What is the relationship between literacy and GDP per capita?\n",
    "#-----------------------------\n",
    "countries.plot.scatter(x = 'literacy', y = 'gdp-per-capita', color = 'black', xticks = [20, 40, 60, 80, 100], yticks = [0, 10000, 20000, 30000, 40000, 50000])"
   ]
  },
  {
   "cell_type": "code",
   "execution_count": 48,
   "metadata": {},
   "outputs": [
    {
     "data": {
      "text/plain": [
       "<matplotlib.axes._subplots.AxesSubplot at 0x240d0504460>"
      ]
     },
     "execution_count": 48,
     "metadata": {},
     "output_type": "execute_result"
    },
    {
     "data": {
      "image/png": "[encoded data removed]",
      "text/plain": [
       "<Figure size 432x288 with 1 Axes>"
      ]
     },
     "metadata": {
      "needs_background": "light"
     },
     "output_type": "display_data"
    }
   ],
   "source": [
    "#Q36: What is the relationship between GDP per capita and death rates?\n",
    "countries.plot.scatter(x = 'gdp-per-capita', y = 'death-rate', color = 'black', xticks = [0, 10000, 20000, 30000, 40000, 50000], yticks = [5, 10, 15, 20, 25, 30])"
   ]
  },
  {
   "cell_type": "code",
   "execution_count": 49,
   "metadata": {},
   "outputs": [
    {
     "data": {
      "text/plain": [
       "<matplotlib.axes._subplots.AxesSubplot at 0x240d054ba60>"
      ]
     },
     "execution_count": 49,
     "metadata": {},
     "output_type": "execute_result"
    },
    {
     "data": {
      "image/png": "[encoded data removed]",
      "text/plain": [
       "<Figure size 432x288 with 1 Axes>"
      ]
     },
     "metadata": {
      "needs_background": "light"
     },
     "output_type": "display_data"
    }
   ],
   "source": [
    "#Q37: What is the relationship between GDP per capita and birth rates?\n",
    "countries.plot.scatter(x = 'gdp-per-capita', y = 'death-rate', color = 'black', xticks = [0, 10000, 20000, 30000, 40000, 50000], yticks = [10, 20, 30, 40, 50])"
   ]
  },
  {
   "cell_type": "code",
   "execution_count": 50,
   "metadata": {},
   "outputs": [
    {
     "data": {
      "text/plain": [
       "<matplotlib.axes._subplots.AxesSubplot at 0x240d0596c40>"
      ]
     },
     "execution_count": 50,
     "metadata": {},
     "output_type": "execute_result"
    },
    {
     "data": {
      "image/png": "[encoded data removed]",
      "text/plain": [
       "<Figure size 432x288 with 1 Axes>"
      ]
     },
     "metadata": {
      "needs_background": "light"
     },
     "output_type": "display_data"
    }
   ],
   "source": [
    "#Q38: What is the relationship between GDP per capita and the inverse of birth rates?\n",
    "countries['inverse'] = 1 / countries['birth-rate']\n",
    "countries.plot.scatter(x = 'gdp-per-capita', y = 'inverse', color = 'black', xticks = [0, 10000, 20000, 30000, 40000, 50000], yticks = [0.02, 0.04, 0.06, 0.08, 0.10, 0.12])"
   ]
  },
  {
   "cell_type": "code",
   "execution_count": 51,
   "metadata": {},
   "outputs": [
    {
     "data": {
      "text/plain": [
       "<matplotlib.axes._subplots.AxesSubplot at 0x240d05f13a0>"
      ]
     },
     "execution_count": 51,
     "metadata": {},
     "output_type": "execute_result"
    },
    {
     "data": {
      "image/png": "[encoded data removed]",
      "text/plain": [
       "<Figure size 432x288 with 1 Axes>"
      ]
     },
     "metadata": {
      "needs_background": "light"
     },
     "output_type": "display_data"
    }
   ],
   "source": [
    "\n",
    "\n",
    "df = DataFrame({\n",
    "    \"gdp-per-capita\": [1,2,3,4],\n",
    "    \"inverse\": [2,5,6,5]\n",
    "})\n",
    "countries[\"1\"] = 1\n",
    "\n",
    "res = np.linalg.lstsq(countries[[\"gdp-per-capita\", \"1\"]], countries[\"inverse\"], rcond=None)\n",
    "\n",
    "# res is a tuple: (COEFFICIENTS, VALUE, VALUE, VALUE)\n",
    "coefficients = res[0] # coefficients is (m,n:\n",
    "m = coefficients[0] # slope\n",
    "n = coefficients[1] # intercept\n",
    "#ax = df.plot.scatter(x='gdp-per-capita', y='inverse')\n",
    "ax = countries.plot.scatter(x = 'gdp-per-capita', y = 'inverse', color = 'black', xticks = [0, 10000, 20000, 30000, 40000, 50000], yticks = [0.02, 0.04, 0.06, 0.08, 0.10, 0.12, 0.14])\n",
    "countries[\"fit\"] = countries[\"gdp-per-capita\"] * m + n\n",
    "countries.plot.line(x='gdp-per-capita', y='fit', c='red', ax=ax)"
   ]
  },
  {
   "cell_type": "code",
   "execution_count": 52,
   "metadata": {},
   "outputs": [
    {
     "data": {
      "text/plain": [
       "(1.8365703926233426e-06, 0.03916624252079353)"
      ]
     },
     "execution_count": 52,
     "metadata": {},
     "output_type": "execute_result"
    }
   ],
   "source": [
    "#Q39: fit a y = m * x + n line to the scatter plot in question 38 using the least-squares method; what are the coefficients m and n?\n",
    "#(slope,intercept)\n",
    "(m, n)"
   ]
  },
  {
   "cell_type": "code",
   "execution_count": 53,
   "metadata": {},
   "outputs": [
    {
     "data": {
      "text/plain": [
       "<matplotlib.axes._subplots.AxesSubplot at 0x240d0656130>"
      ]
     },
     "execution_count": 53,
     "metadata": {},
     "output_type": "execute_result"
    },
    {
     "data": {
      "image/png": "[encoded data removed]",
      "text/plain": [
       "<Figure size 432x288 with 1 Axes>"
      ]
     },
     "metadata": {
      "needs_background": "light"
     },
     "output_type": "display_data"
    }
   ],
   "source": [
    "#Q40: plot the regression line to the scatter plot\n",
    "ax = countries.plot.scatter(x = 'gdp-per-capita', y = 'inverse', color = 'gray', xticks = [0, 10000, 20000, 30000, 40000, 50000], yticks = [0.02, 0.04, 0.06, 0.08, 0.10, 0.12, 0.14])\n",
    "countries[\"fit\"] = countries[\"gdp-per-capita\"] * m + n\n",
    "countries.plot.line(x='gdp-per-capita', y='fit', c='red', ax=ax)\n"
   ]
  },
  {
   "cell_type": "code",
   "execution_count": 54,
   "metadata": {},
   "outputs": [],
   "source": [
    "conn.close()"
   ]
  },
  {
   "cell_type": "code",
   "execution_count": null,
   "metadata": {},
   "outputs": [],
   "source": []
  }
 ],
 "metadata": {
  "kernelspec": {
   "display_name": "Python 3",
   "language": "python",
   "name": "python3"
  },
  "language_info": {
   "codemirror_mode": {
    "name": "ipython",
    "version": 3
   },
   "file_extension": ".py",
   "mimetype": "text/x-python",
   "name": "python",
   "nbconvert_exporter": "python",
   "pygments_lexer": "ipython3",
   "version": "3.8.1"
  }
 },
 "nbformat": 4,
 "nbformat_minor": 2
}
